{
  "nbformat": 4,
  "nbformat_minor": 0,
  "metadata": {
    "colab": {
      "provenance": []
    },
    "kernelspec": {
      "name": "python3",
      "display_name": "Python 3"
    },
    "language_info": {
      "name": "python"
    }
  },
  "cells": [
    {
      "cell_type": "code",
      "source": [
        "!pip install kaggle"
      ],
      "metadata": {
        "colab": {
          "base_uri": "https://localhost:8080/"
        },
        "id": "D3h3uZOk-VZU",
        "outputId": "fdbbbac1-1742-4626-fc68-3c162d7c0f0e"
      },
      "execution_count": null,
      "outputs": [
        {
          "output_type": "stream",
          "name": "stdout",
          "text": [
            "Requirement already satisfied: kaggle in /usr/local/lib/python3.10/dist-packages (1.5.16)\n",
            "Requirement already satisfied: six>=1.10 in /usr/local/lib/python3.10/dist-packages (from kaggle) (1.16.0)\n",
            "Requirement already satisfied: certifi in /usr/local/lib/python3.10/dist-packages (from kaggle) (2023.7.22)\n",
            "Requirement already satisfied: python-dateutil in /usr/local/lib/python3.10/dist-packages (from kaggle) (2.8.2)\n",
            "Requirement already satisfied: requests in /usr/local/lib/python3.10/dist-packages (from kaggle) (2.31.0)\n",
            "Requirement already satisfied: tqdm in /usr/local/lib/python3.10/dist-packages (from kaggle) (4.66.1)\n",
            "Requirement already satisfied: python-slugify in /usr/local/lib/python3.10/dist-packages (from kaggle) (8.0.1)\n",
            "Requirement already satisfied: urllib3 in /usr/local/lib/python3.10/dist-packages (from kaggle) (2.0.6)\n",
            "Requirement already satisfied: bleach in /usr/local/lib/python3.10/dist-packages (from kaggle) (6.0.0)\n",
            "Requirement already satisfied: webencodings in /usr/local/lib/python3.10/dist-packages (from bleach->kaggle) (0.5.1)\n",
            "Requirement already satisfied: text-unidecode>=1.3 in /usr/local/lib/python3.10/dist-packages (from python-slugify->kaggle) (1.3)\n",
            "Requirement already satisfied: charset-normalizer<4,>=2 in /usr/local/lib/python3.10/dist-packages (from requests->kaggle) (3.3.0)\n",
            "Requirement already satisfied: idna<4,>=2.5 in /usr/local/lib/python3.10/dist-packages (from requests->kaggle) (3.4)\n"
          ]
        }
      ]
    },
    {
      "cell_type": "code",
      "execution_count": null,
      "metadata": {
        "id": "AQxDJS_g0HJE"
      },
      "outputs": [],
      "source": [
        "import numpy as np\n",
        "import pandas as pd\n",
        "import matplotlib.pyplot as plt"
      ]
    },
    {
      "cell_type": "markdown",
      "source": [
        "# Решить задачу регрессии\n",
        "* Сравнить результаты численного решения с аналитическим\n",
        "\n",
        "$$ y(x) = x0*w0 + x1*w1 $$"
      ],
      "metadata": {
        "id": "D2l4IyGH0U9G"
      }
    },
    {
      "cell_type": "code",
      "source": [
        "# результат работы модели -- это скалярное произведение весов w на значения признаков x\n",
        "def linear_prediction(X, w):\n",
        "    return X @ w"
      ],
      "metadata": {
        "id": "Aoxa6lQ-4t9t"
      },
      "execution_count": null,
      "outputs": []
    },
    {
      "cell_type": "code",
      "source": [
        "def loss(X,y,w):\n",
        "  y_pred = linear_prediction(X, w)\n",
        "  L = np.mean((y-y_pred)**2)\n",
        "  return L"
      ],
      "metadata": {
        "id": "KtU35dJ9dXvp"
      },
      "execution_count": null,
      "outputs": []
    },
    {
      "cell_type": "code",
      "source": [
        "#необходимо реализовать численную оптимизацию функции стоиомости (градиентный спуск)\n",
        "#на вход подается матрица признаков Х, целевая переменная y, веса и скорость обучения lr (параметр альфа)\n",
        "#функция стоимости -- MSE\n",
        "def optim(x,w,y,lr=0.001):\n",
        "    n = x.shape[0]\n",
        "    f = x @ w\n",
        "    err = f - y\n",
        "    grad = x.T @ err / n\n",
        "    w -= lr * grad\n",
        "    return w"
      ],
      "metadata": {
        "id": "7VKGsp6i0Tb7"
      },
      "execution_count": null,
      "outputs": []
    },
    {
      "cell_type": "code",
      "source": [
        "x = [6.1101, 5.5277, 8.5186, 7.0032, 5.8598, 8.3829, 7.4764, 8.5781, 6.4862, 5.0546, 5.7107, 14.164, 5.734, 8.4084, 5.6407, 5.3794,\n",
        "    6.3654, 5.1301, 6.4296, 7.0708, 6.1891, 20.27, 5.4901, 6.3261, 5.5649, 18.945, 12.828, 10.957, 13.176, 22.203, 5.2524, 6.5894,\n",
        "    9.2482, 5.8918, 8.2111, 7.9334, 8.0959, 5.6063, 12.836, 6.3534, 5.4069, 6.8825, 11.708, 5.7737, 7.8247, 7.0931, 5.0702, 5.8014,\n",
        "    11.7, 5.5416, 7.5402, 5.3077, 7.4239, 7.6031, 6.3328, 6.3589, 6.2742, 5.6397, 9.3102, 9.4536, 8.8254, 5.1793, 21.279, 14.908, 18.959,\n",
        "    7.2182, 8.2951, 10.236, 5.4994, 20.341, 10.136, 7.3345, 6.0062, 7.2259, 5.0269, 6.5479, 7.5386, 5.0365, 10.274, 5.1077, 5.7292, 5.1884,\n",
        "    6.3557, 9.7687, 6.5159, 8.5172, 9.1802, 6.002, 5.5204, 5.0594, 5.7077, 7.6366, 5.8707, 5.3054, 8.2934, 13.394, 5.4369]\n",
        "y = [17.592, 9.1302, 13.662, 11.854, 6.8233, 11.886, 4.3483, 12, 6.5987, 3.8166, 3.2522, 15.505, 3.1551, 7.2258, 0.71618, 3.5129, 5.3048, 0.56077,\n",
        "     3.6518, 5.3893, 3.1386, 21.767, 4.263, 5.1875, 3.0825, 22.638, 13.501, 7.0467, 14.692, 24.147, -1.22, 5.9966, 12.134, 1.8495, 6.5426, 4.5623,\n",
        "     4.1164, 3.3928, 10.117, 5.4974, 0.55657, 3.9115, 5.3854, 2.4406, 6.7318, 1.0463, 5.1337, 1.844, 8.0043, 1.0179, 6.7504, 1.8396, 4.2885, 4.9981,\n",
        "     1.4233, -1.4211, 2.4756, 4.6042, 3.9624, 5.4141, 5.1694, -0.74279, 17.929, 12.054, 17.054, 4.8852, 5.7442, 7.7754, 1.0173, 20.992, 6.6799, 4.0259,\n",
        "     1.2784, 3.3411, -2.6807, 0.29678, 3.8845, 5.7014, 6.7526, 2.0576, 0.47953, 0.20421, 0.67861, 7.5435, 5.3436, 4.2415, 6.7981, 0.92695, 0.152, 2.8214,\n",
        "     1.8451, 4.2959, 7.2029, 1.9869, 0.14454, 9.0551, 0.61705]"
      ],
      "metadata": {
        "id": "08PYc_lb0VW5"
      },
      "execution_count": null,
      "outputs": []
    },
    {
      "cell_type": "code",
      "source": [
        "w = np.random.randn(2)\n",
        "X = np.vstack([np.ones(len(x)), x]).T"
      ],
      "metadata": {
        "id": "k3vlUMPUK_Ep"
      },
      "execution_count": null,
      "outputs": []
    },
    {
      "cell_type": "code",
      "source": [
        "plt.figure(figsize=(5,5))\n",
        "plt.grid()\n",
        "plt.scatter(x, y)\n",
        "w = optim(X, w, y, lr=0.01)\n",
        "plt.plot(x, linear_prediction(X, w), color='r')\n",
        "plt.show()"
      ],
      "metadata": {
        "colab": {
          "base_uri": "https://localhost:8080/",
          "height": 445
        },
        "id": "OpsJLjxJJCwC",
        "outputId": "e71f1015-4989-4a8b-cdd9-1d824166653d"
      },
      "execution_count": null,
      "outputs": [
        {
          "output_type": "display_data",
          "data": {
            "text/plain": [
              "<Figure size 500x500 with 1 Axes>"
            ],
            "image/png": "[encoded data removed]"
          },
          "metadata": {}
        }
      ]
    },
    {
      "cell_type": "code",
      "source": [
        "w"
      ],
      "metadata": {
        "colab": {
          "base_uri": "https://localhost:8080/"
        },
        "id": "0-sJv3oYMIA1",
        "outputId": "f173301d-6493-4427-cd35-5fd2a43c5e61"
      },
      "execution_count": null,
      "outputs": [
        {
          "output_type": "execute_result",
          "data": {
            "text/plain": [
              "array([1.54970816, 0.64586813])"
            ]
          },
          "metadata": {},
          "execution_count": 90
        }
      ]
    },
    {
      "cell_type": "markdown",
      "source": [
        "\n",
        "Численное решение задачи линейной регрессии (например, метод градиентного спуска) находит оптимальные веса путем итеративного обновления их значений на каждом шаге. Аналитическое решение, с другой стороны, находит оптимальные веса непосредственно из математического анализа задачи.\n",
        "\n",
        "Аналитическое решение задачи линейной регрессии можно получить путем минимизации функции потерь (среднеквадратичной ошибки) по весам. Это можно сделать, найдя производную функции потерь по каждому весу, приравняв ее к нулю и решив полученную систему уравнений."
      ],
      "metadata": {
        "id": "oorKBJJpZwBj"
      }
    },
    {
      "cell_type": "code",
      "source": [
        "#найдем аналитическое решение\n",
        "W = np.linalg.inv(X.T @ X) @ X.T @ y\n",
        "print(w)"
      ],
      "metadata": {
        "id": "rmq4cigWPpJL",
        "colab": {
          "base_uri": "https://localhost:8080/"
        },
        "outputId": "9acf23ef-ccbc-4ad5-ced5-9926e5db4a7b"
      },
      "execution_count": null,
      "outputs": [
        {
          "output_type": "stream",
          "name": "stdout",
          "text": [
            "[-0.7816498  0.8801854]\n"
          ]
        }
      ]
    },
    {
      "cell_type": "markdown",
      "source": [
        "# Решить задачу регрессии для прогнозирования стоимости недвижимости\n",
        "Использовать линейную регрессию без регуляризации, с регуляризацией Тихонова, и лассо регуляризацией, сравнить результаты"
      ],
      "metadata": {
        "id": "3A3CSdXb0VuK"
      }
    },
    {
      "cell_type": "markdown",
      "source": [
        "Данные можно скачать двумя способами:\n",
        "\n",
        "* Скачать данные с Kaggle, в Google Colab нажать слева значок папки и перетащить данные туда\n",
        "* С помощью Kaggle API"
      ],
      "metadata": {
        "id": "QOHaRSq9-FOo"
      }
    },
    {
      "cell_type": "code",
      "source": [
        "from google.colab import files\n",
        "files.upload()"
      ],
      "metadata": {
        "id": "-j8fXxZKJAJh",
        "colab": {
          "base_uri": "https://localhost:8080/",
          "height": 995
        },
        "outputId": "c70916a9-ccaf-4ce8-d1d8-be64e146c3ae"
      },
      "execution_count": null,
      "outputs": [
        {
          "output_type": "display_data",
          "data": {
            "text/plain": [
              "<IPython.core.display.HTML object>"
            ],
            "text/html": [
              "\n",
              "     <input type=\"file\" id=\"files-4944bcd3-b5cd-475f-804c-a3d694a5c55c\" name=\"files[]\" multiple disabled\n",
              "        style=\"border:none\" />\n",
              "     <output id=\"result-4944bcd3-b5cd-475f-804c-a3d694a5c55c\">\n",
              "      Upload widget is only available when the cell has been executed in the\n",
              "      current browser session. Please rerun this cell to enable.\n",
              "      </output>\n",
              "      <script>// Copyright 2017 Google LLC\n",
              "//\n",
              "// Licensed under the Apache License, Version 2.0 (the \"License\");\n",
              "// you may not use this file except in compliance with the License.\n",
              "// You may obtain a copy of the License at\n",
              "//\n",
              "//      http://www.apache.org/licenses/LICENSE-2.0\n",
              "//\n",
              "// Unless required by applicable law or agreed to in writing, software\n",
              "// distributed under the License is distributed on an \"AS IS\" BASIS,\n",
              "// WITHOUT WARRANTIES OR CONDITIONS OF ANY KIND, either express or implied.\n",
              "// See the License for the specific language governing permissions and\n",
              "// limitations under the License.\n",
              "\n",
              "/**\n",
              " * @fileoverview Helpers for google.colab Python module.\n",
              " */\n",
              "(function(scope) {\n",
              "function span(text, styleAttributes = {}) {\n",
              "  const element = document.createElement('span');\n",
              "  element.textContent = text;\n",
              "  for (const key of Object.keys(styleAttributes)) {\n",
              "    element.style[key] = styleAttributes[key];\n",
              "  }\n",
              "  return element;\n",
              "}\n",
              "\n",
              "// Max number of bytes which will be uploaded at a time.\n",
              "const MAX_PAYLOAD_SIZE = 100 * 1024;\n",
              "\n",
              "function _uploadFiles(inputId, outputId) {\n",
              "  const steps = uploadFilesStep(inputId, outputId);\n",
              "  const outputElement = document.getElementById(outputId);\n",
              "  // Cache steps on the outputElement to make it available for the next call\n",
              "  // to uploadFilesContinue from Python.\n",
              "  outputElement.steps = steps;\n",
              "\n",
              "  return _uploadFilesContinue(outputId);\n",
              "}\n",
              "\n",
              "// This is roughly an async generator (not supported in the browser yet),\n",
              "// where there are multiple asynchronous steps and the Python side is going\n",
              "// to poll for completion of each step.\n",
              "// This uses a Promise to block the python side on completion of each step,\n",
              "// then passes the result of the previous step as the input to the next step.\n",
              "function _uploadFilesContinue(outputId) {\n",
              "  const outputElement = document.getElementById(outputId);\n",
              "  const steps = outputElement.steps;\n",
              "\n",
              "  const next = steps.next(outputElement.lastPromiseValue);\n",
              "  return Promise.resolve(next.value.promise).then((value) => {\n",
              "    // Cache the last promise value to make it available to the next\n",
              "    // step of the generator.\n",
              "    outputElement.lastPromiseValue = value;\n",
              "    return next.value.response;\n",
              "  });\n",
              "}\n",
              "\n",
              "/**\n",
              " * Generator function which is called between each async step of the upload\n",
              " * process.\n",
              " * @param {string} inputId Element ID of the input file picker element.\n",
              " * @param {string} outputId Element ID of the output display.\n",
              " * @return {!Iterable<!Object>} Iterable of next steps.\n",
              " */\n",
              "function* uploadFilesStep(inputId, outputId) {\n",
              "  const inputElement = document.getElementById(inputId);\n",
              "  inputElement.disabled = false;\n",
              "\n",
              "  const outputElement = document.getElementById(outputId);\n",
              "  outputElement.innerHTML = '';\n",
              "\n",
              "  const pickedPromise = new Promise((resolve) => {\n",
              "    inputElement.addEventListener('change', (e) => {\n",
              "      resolve(e.target.files);\n",
              "    });\n",
              "  });\n",
              "\n",
              "  const cancel = document.createElement('button');\n",
              "  inputElement.parentElement.appendChild(cancel);\n",
              "  cancel.textContent = 'Cancel upload';\n",
              "  const cancelPromise = new Promise((resolve) => {\n",
              "    cancel.onclick = () => {\n",
              "      resolve(null);\n",
              "    };\n",
              "  });\n",
              "\n",
              "  // Wait for the user to pick the files.\n",
              "  const files = yield {\n",
              "    promise: Promise.race([pickedPromise, cancelPromise]),\n",
              "    response: {\n",
              "      action: 'starting',\n",
              "    }\n",
              "  };\n",
              "\n",
              "  cancel.remove();\n",
              "\n",
              "  // Disable the input element since further picks are not allowed.\n",
              "  inputElement.disabled = true;\n",
              "\n",
              "  if (!files) {\n",
              "    return {\n",
              "      response: {\n",
              "        action: 'complete',\n",
              "      }\n",
              "    };\n",
              "  }\n",
              "\n",
              "  for (const file of files) {\n",
              "    const li = document.createElement('li');\n",
              "    li.append(span(file.name, {fontWeight: 'bold'}));\n",
              "    li.append(span(\n",
              "        `(${file.type || 'n/a'}) - ${file.size} bytes, ` +\n",
              "        `last modified: ${\n",
              "            file.lastModifiedDate ? file.lastModifiedDate.toLocaleDateString() :\n",
              "                                    'n/a'} - `));\n",
              "    const percent = span('0% done');\n",
              "    li.appendChild(percent);\n",
              "\n",
              "    outputElement.appendChild(li);\n",
              "\n",
              "    const fileDataPromise = new Promise((resolve) => {\n",
              "      const reader = new FileReader();\n",
              "      reader.onload = (e) => {\n",
              "        resolve(e.target.result);\n",
              "      };\n",
              "      reader.readAsArrayBuffer(file);\n",
              "    });\n",
              "    // Wait for the data to be ready.\n",
              "    let fileData = yield {\n",
              "      promise: fileDataPromise,\n",
              "      response: {\n",
              "        action: 'continue',\n",
              "      }\n",
              "    };\n",
              "\n",
              "    // Use a chunked sending to avoid message size limits. See b/62115660.\n",
              "    let position = 0;\n",
              "    do {\n",
              "      const length = Math.min(fileData.byteLength - position, MAX_PAYLOAD_SIZE);\n",
              "      const chunk = new Uint8Array(fileData, position, length);\n",
              "      position += length;\n",
              "\n",
              "      const base64 = btoa(String.fromCharCode.apply(null, chunk));\n",
              "      yield {\n",
              "        response: {\n",
              "          action: 'append',\n",
              "          file: file.name,\n",
              "          data: base64,\n",
              "        },\n",
              "      };\n",
              "\n",
              "      let percentDone = fileData.byteLength === 0 ?\n",
              "          100 :\n",
              "          Math.round((position / fileData.byteLength) * 100);\n",
              "      percent.textContent = `${percentDone}% done`;\n",
              "\n",
              "    } while (position < fileData.byteLength);\n",
              "  }\n",
              "\n",
              "  // All done.\n",
              "  yield {\n",
              "    response: {\n",
              "      action: 'complete',\n",
              "    }\n",
              "  };\n",
              "}\n",
              "\n",
              "scope.google = scope.google || {};\n",
              "scope.google.colab = scope.google.colab || {};\n",
              "scope.google.colab._files = {\n",
              "  _uploadFiles,\n",
              "  _uploadFilesContinue,\n",
              "};\n",
              "})(self);\n",
              "</script> "
            ]
          },
          "metadata": {}
        },
        {
          "output_type": "stream",
          "name": "stdout",
          "text": [
            "Saving housing_prices_dataset.zip to housing_prices_dataset.zip\n"
          ]
        },
        {
          "output_type": "execute_result",
          "data": {
            "text/plain": [
              "{'housing_prices_dataset.zip': b'PK\\x03\\x04-\\x00\\x00\\x00\\x08\\x00X\\x92,T\\xf8q\\xf3\\xd7\\xff\\xff\\xff\\xff\\xff\\xff\\xff\\xff\\x0b\\x00\\x14\\x00Housing.csv\\x01\\x00\\x10\\x00\\x1du\\x00\\x00\\x00\\x00\\x00\\x00\\xe4\\x11\\x00\\x00\\x00\\x00\\x00\\x00\\x9d\\x9d\\xebn,\\xb7\\r\\x80\\xff\\x17\\xe8\\x9bl\\x01\\xdd\\xa5y\\x1c7q\\x12\\xa3\\xc88\\xf0qP\\xf4\\xed;#R\\x1a]H\\x8e\\xe64\\x8ew\\x8f\\x9b\\xefP\\xbc\\x88\\xa2(\\xcd\\xfa\\xaf\\xaf\\x8f_\\xde_o_\\xefo\\xaf\\x7f\\xbf\\xff\\xfa\\xf5\\xf9\\xf9\\xe7\\x8f\\xd7\\xbf\\xdf\\xbe\\xff\\x80w?\\xbe?\\xbf>\\xde\\x7f\\xbc\\xfe|\\xfb\\xd8\\xbf>\\xdf~}\\xfd\\xfe\\xf7\\xfb\\x8f\\xef\\xf3\\xff;\\xfe\\xa3\\x1f\\xef\\x7f\\xbe\\xef\\xdf\\xaf?>\\xbf\\xff\\xfb\\xf6\\xfd\\xfe\\xf5\\xc7\\xfb\\xdb\\xf7\\xc7\\xfe\\xfb\\xeb\\xed\\xe3\\xeb\\x97\\xcf\\xfd\\xd7\\x8f\\xef\\x8f\\xcf\\xfd\\xfc\\xf3_o_\\xff\\xc9\\xaf_\\xef\\xbfe9\\xbf\\xfd\\xfd\\xb5\\x7f\\xfc\\xf8\\xe3\\xf8\\xd9\\x8f\\xef\\xb7\\xef\\xbf\\x7f\\xfc\\xf3\\x1f\\xdaZu\\xfe\\xef\\x15\\x9dQ/\\xf72/\\xfb\\xfa\\xdf!v\\xff\\xc4\\xaf\\xf3\\x0f&\\x7fG\\xf8\\xfd\\xd7\\x832\\xc6g*m\\xe1\\xa4\\xce\\x7f&\\xca\\x9eo(h;!{\\xfc\\xad\\xa6@\\x17\\x0b?:\\xf4\\xfb\\xf8W\\x8fj\\x9fGy|\\xcf\\xa3\\x1cQ\\x108\\x0eS;\\xdd*\\xa7\\x11+\\xffV\\xf5\\x86\\x81\\xaa\\x04\\x03\\xcd\\xd2\\xec\\xf1\\x8f&\\xa41#U\\x1a-\\xe3\\xd3)\\xd2R\\x96\\xb9Au0\\xc7w\\x9fM\\xd4\\xb1\\xc7\\x97:\\xbf\\xfd\\xbd7\\xd8\\x96\"\\x08\\xd4J\\xd4q\\xb0\\xcd\\x96\\xc0\\xef\\xfeP2Kr-\\x82\\x14\\xe8=\\x88\\x03N[\\x93\\x8d\\xa3_\\x94+fq\\xe1\\x1c\\x9fz\\x05\\xa5\\xc0,\\xfd(\\x11\\xcd\\x9e\\x18\\xed\\xb2Ypb\\xf0~\\xf0\\xfd8\\xd0\\x894.\\x93v\\x8a\\x9ak\\xb4\\xa3\\xf3\\x0b\\x13\\x93\\x1a\\x82\\xb4\\xf1\\x01)L\\x83aP\\xc3\\xd9.\\xac~\\x05\\x0c\\xdd(\\x07\\x07\\x12\\xae8\\'\\x1f\\x84\\x9aj]8\\x84Z\\xaf^J[f\\\\\\xe8\\xd4\\xeb\\xcd2C>\\xcf\\xbepN#\\xc2&\\xbc\\x07R\\x84\\x90v\\xd6\\x10\\xc1\"y=\\x85\\x04~\\xd0\\x1ef\\x82\\xa6\\xac\\x92\\xd1\\xde(\\xc1\\xe5\\xb1&\\xe5A\"\\xc9\\xe9QC\\xa4\\x9c\\x0f\\xa3Y$\\xcaG\\x90\\xc5\\xc4\\niK\\xef0\\x9a\\x9d\\xe0\\xedi\\xfe$\\x17l\\x8d\\xae~\\xba6\\x18\\x1d\\x99\\xc9A\\x80\\xa5\\xc3\\x1b\\x8dI\\xea0\\x8f/M\\xba\\x00\\xb9\\xb8\\xf93\\x1d\\rI\\xb7u^\\xef\\x01\\xc4\\xbc\\x94\\xab\\xb58\\xd2\\xe8\\xa2\\x17#\\x9a\\x14\\x18\\x15f$\\x8e\\x9a\\xc4\\x99\\r\\xbc\\x9e\\xd2Mfi!\\r3\\xc8\\xc3*6f\\xb2\\xc6\\x9e\\xfd \\xb5\\x01\\xbf\\x1f\\xa3=\\x8c\\xc9\\xa4\\xe9)\\xc2TR\\x9b\\xab\\xaa\\xadMq\\xe5,\\x181\\x99\\xcc\\xb4+:\\xbe\\x9b\\xb4\\x8a\\x90\\xd7_\\x9bB\\xa7-\\x08\\x8a[8W\\xf4\\x12\\x93\\xfaE-!\\xb3\\xbb\\xe2\\x86\\xf9\\\\\\x10E\\xc6c\\x84l\\x02\\x0b\\x01\\xb7\\xf2\\xa8I\\xb3\\x84\\x13\\xce\\x06\\xd6\\x843\\x14!\\xa4\\x82K\\xb2\\xdd{\\xcd\\n\\xc5h\\xb63\\xb9.\\xfa\\xb0f\\x11\\x8e\\x19\\xbd\\\\\\xd5\"\\x85\\x19\\xdf\\x81+\\xc2\\x1c\\xc4|\\x08\\xfc\\x0c\\x9b\\xaa\\xaf\\xe8`\\xd58\\xa3\\xb1\\xcf\\x8e\\x17;\\xcf\\x93\\xb3T\\x83\\xe8u\\x8a\\xcf\\xfbt\\xa2\\x9b\\xd8\\xd9\\xfe\\xc42Z\\xa8`\\x8d\\xe7\\x94#\\xc6i=\\xe5\\xb3\\x8b$\\xed\\x88\\x90\\xd7^\\x0e\\xabI\\xb3V\\x1a\\xb7l\\xeb\\x05\\xb2\\x994\\xb2v\\x90C\\x8e\\n\\xda\\xb1\\xd5\\x0c\\x9d\\xc3\\xa3\\x81\\xa5t\\xc8$\\xe3P\\xc7`1X\\xa9\\x87tc\\xceY\\x9en\\x15\\\\t\\x84v\\xb2=wfM\\x8c\\n\\xab\\xeds\\xc90\\xf3Z\\xca\\x0f\\x13\\xc1`\\xbau\\x7f\\x06;\\xc6\\xc2T\\xb5a}o\\x069\\xe8t\\x9d\\x1e\\x97\\xfb\\xe6er@\\xd8\\xec\\xa5\\x185[\\xa9\\x01\\x16\\x086\\x03f\\x94\\x85o\\'*\\xc1\\xb2{\\xa6\\xcbf\\x8aW\\xb5v\\xaa\\xaa\\x08\\xa9\\xcbw\\xbc\\xe1[&B\\xda:\\x96\\xde\\x8d4\\xfa\\xfe9\\xdb\\xaf@\\xae\\x0f\\x8d\\xde\\x10t\\xfe\\t\\xd1_\\xa9\\x95\\xc9\\xe3\\xf3\\x06.D\\xc8?^\\x196\\xb9\\x82\\xbc\\x1e\\x0b\\t\\x84\\x85l\\xfaF\\xd8EO\\xebZ\\x08X\\x8f+\\xc7\\xd7\\xe3\\x93\\x19\\x0bd\\x02\\xbb\\x8d\"\\x97\\x9a\\x02\\xd6}\\x03\\xb9F1C\\x0ceW\\xf3\\x04\\xf2\\xb1\\x8b\\x8eF\\xa9\\xf3\\xc5\\xb0\\xb2T\\'\\xab\\xd7NM\\xe60[\\x17\\x89\\x849\\xe8\\xd4\\x18\\x02t1\\xc4\\xd0\"\\xb3G!\\xb5*VY\\x9b\\xd4>\\xf5\\xfaq\\x019\\xc9\\xf3\\x90Tm\\x0c\\xac\\x8eF\\x02\\x93\\xf1rYB0!D\\x10V\\x99\\x0b\\xa5&\\x80\\x83r\\xd0na\\xc8\\x08\\x17F\\x8f\\x11\\xc1\\xe8\\xf4m\\xb0\\x0c\\x12a\\xd5\\xc8\\xbd\\x1d\\xba?3\\xd6\\xc8\\x05\\xf1T\\xb0\\x88\\x1ep\\x1a\\xa2\\xec\\xec\\xcf\\x18j\\x90;\\x95\\xbc\\x9c\\xc2\\x1dM\\xe7\\xf0\\xdew\\x93\\xfdK\\x0b\\xd0\\x08\\xb1e\\xc9A\")\\x14\\xbcZ\\xe2\\xce\\xf6\\x1c\\x17%F\\x02\\xb7bN\\xc2\\xe7\\xf3,(\\xa3tRr`\\xa6\\xac\\xd9`\\xdf\\x1d\\xf8\\x91R\\xb1iB\\xbb\\x12\\x94\\x90\\xee}ArVu\\xe2(W\\x08\\x9c\\xf7j\\x98B\\x8d#fJ\\xc3B\\xecKRY.\\xba\\n\\x19l7\\xcd{r\\x8a\\xb3Q\\xdcZHkX\\xf8]QmmQE\\xca;l\\x1a\\xf2\\x86\\x9cu\\xc3\\r\\x923\\x8f\\xd2\\x91V\\xd0/6\\xaeuy\\xef\\x02\\xca\\x94\\xaa\\xec\\xad\\xb4oV\\xd7^\\xe4\\r\\xc9\\xc5u\\xb5\\'\\x87&\\x1b\\r\\x15/\\xe7\\x1f\\x88\\x1aL\\xa5<\\x19\\xf2\\x8e.\\xbc\\xa8rj\\xf29\"[0B\\x92\\x1e]\\xaeJ\\xafDI\\xb9o\\x94\\x04PR\\x9c5@)\\xda\\x1c(p\\x13\"\\x93\\xf0\\xb9\\xdf\\xa0~\\xb0Q\\xb5\\xbb\\xa4\\x8b9\\xdf\\x8d&)P\\x8d/>4\\t**\\x81\\xa2\\xb5\\xab\\x02\\xbd\\xbb\\x8b\\x13J\\xa0\\xb1\\xbaY\\xb9\\x06{\\xd2S\\xa8J4\\xde\\x91\\xb3o\\xe7J\\xa4*\\xd5\\x1a\\xaebg\\xed\\xe9\\r\\xd94\\xdc\\xe7\\x8a\\xd6o\\xb8\\xbd\\xf5\\xfd\\xd4\\xa9\\x00\\x18s\\x9f\\xe7\\x9cO\\xa5-\\x1dn\\xe2\\xb9\\x0f\\x14\\xc4\\xe4\\xa2v\\xff\\x1c\\xa9\\x98\\x879d\\xf5>\\xbc&\\xdd\\x10:\\xb6\\xee\\x81[\\x0b\\x988I\\x01\\xd6\\xab$\\xe4\\x13j\\x94P\\xbe\\xf9dR\\x9e\\x04\\xe3*\\xb23\\xdb\\x83\\n\\x1aE\\x0e\\xb4\\x1a\\x85\\x03\\xeb@\\x17\\xad\\xa9\\xa0/\\xaa\\xd4\\x8d\\xeb&y1^\\xab\\xb9TF\\xf7\\xf2\"\\x96~N\\xb1;~\\xc3R.\\x8c\\x8d\\x97\\xfaE.\\x06UZ\\xd1n\\xd9\\x98\\xb1\\xeb\\x8f\\xaen\\x9d\\xaa\\xbc\\xf4\\xc8&\\xc1C\\xcb8t[\\xc9>^\\x98\\xcc\\x90\\x17\\xf4\\xb2\\x05\\xa2S\\x03m\\x19\\x04s\\xb4\\xf8<\\xf7\\xae!\\xe2\\xdf@\\x8d\\x14\\xa99\\xb57f\\x99&\\x1fR\\xd5\\x0bs.R\\x0c\\x02z\\x11-\\xa5;\\xbdj9\\xf5\\xd0\\x1e\\xd5\\xe1\\x96\\x18\\xa3\\xe4\\x81zPIL \\x99\\xf4\\xda\\x86\\xbb\\xb5\\xa4\\xf7\\x82\\x87:\\xda9E\\xce\\x86+4\\'\\x91H\\xe6\\xd9\\xe7e\\x91\\x1d\\x06\\x85\\xb4\\x85\\xa6u\\xb3\\xc5ku\\xa4\\xacZ\\xc0\\xe09o\\x18\\x89\\x0be+\\xb4R yo`W\\xb2))S\\x93vqP\\x84\\x9b\\xa4#\\xce\\xa2\\xfds \\xa7\\xa8F\\xe6<$\\xa2VKV7\\x07E\\xb8-\\xedn2\\xb5L\\x13\\x02\\xa9`\\xb4\"\\xd7\\x13\\x11\\xd2\\x8a_*9\\x8b\\x84>\\xac\\xa9\\x9c\\xc4\\xa1\\xb8UH\\xc6\\xbf\\xd8\\xdc\\xc9\\xb0\\x16\\xab\\xf7\\xa8\\xdb\\x80\\x19=1z\\xdeB=}\\x9eW\\x13&E\\x92Hg\\x16\\x8fF\\xfa\\xb5\\xfd\\n\\xb3\\xf3\\x85*\\\\\\x0ct\\x19]\\xe92.\\x17Jx\\xd9\\x07\\x9b\\x86\\xdca\\xdd\\xe0E\\xd3T\\xaa58;aJ\\x126\\xec,/a\\xfb\\xa7\\x0cje\\xc2\\xc6\\x846\\xb3\\x1c\\x95\\x1bP\\xa5\\xa9@\\xe6\\x17\\xd2\\xa28V\\xab\\x86,\\xda*\\xc9b6q\\xf2\\xeaPI\\xee<\\xdf\\x9d\\xb7\\x97\\xbb0y\\x8b\\x82~\\xdcp\\x0c\\x9e\\xef\\x18\\x87\\xb7\\x14<\\x1de;;\\x93\\x0c4U\\xa3J\\xccL\\xda\\xd9\\xea\\x0c\\xef\\x86Y=\\x9e\\\\\\xdc)\\x88\\xdd\\xd8RO\\xe8F\\xb3VA\\x0e\\x8c\\xfd\\r(\\xca\\x15-\\xa5\\xe1\\\\\\xcc\\x96\\xae\\xe3jl#\\'$_&B5\\xf6p\\x95\\xe2\\x13\\xcc4\\x03{\\x88<\\xf7#\\xb2\\x0bR\\xf9\\xc2]\\xb6$\\xb5m\\x9b\\x0c\\x82m\\xdf\\x92\\xb2\\xa9\\x94\\xc4D\\x8b\\x82\\x82\\xdc\\x1f.\\xa0\\xc4]d?LU\\xee\\x83\\xb9Ri\\xed\\xe3\\xdaG\\xfb\\x00\\xc1\\x08K\\x04S\\x86\\x0c\\x96DF\\xabr&\\xc1\\xda\\x9f\\x13\\'6vf{*\\x0b\\xdd\\x19\\xa9k\\xc2\\xc8\\x83\\xaeqb\\xd7i\\x8et\\x1b\\x9cj:\\x97\\xd7j\\xb2\\\\2\\x12\\x18C\\n\\x84\\x8aH32s9yT05\\xae//\\xe0\\x8b\\xa6A8N=v\\xff\\xa9\\x8f\\xed6jH0\\x1f\\xde\\xbe\\xdct\\xe5\\xb1~\\x8d%\\x13\\\\\\x988\\x93\\x8b\\xa1\\xe7\\x91$\\x0cH\\xb5\\xf9+O4F\\xb9\\'\\xb5!\\x0ec\\x9bqr\\xa0g\\xaal\\xde\\x13(0F)N\\x052\\xd8q\\xee_\\xae0\\x12\\xe8\\xd9 \\xbf5\\x0f\\x9b\\xdanI\\xb3\\x8d\\x07Tk\\xf69Ox\\x99\\xd4=\\xe7\\xd2j\\xd4\\xe0\\x98\\xbd\\xd2\\xfe)\\xdbF\\x9b~[\\xd0\\xca\\x1b\\xb3\\x94Kp\\xbea\\xdd\\xd8ok^hiH\\xbam\\xf3\\xfcn\\x90\\x04qOg=\\x1b\\xa6\\x84Y\\x12\\xec\\x93\\x9c\\x0e\\xa2\\x0fH((\\xc7\\x1b\\xe4\\xfc\\xc9<F\\x04S0\\\\\\xaa\\x98veu\\x88G\\x1e\\xed\\x15\\xbb z=s\\x117X\\\\h\\xd2\\xda!Uo~\\x8f7\\x00x\\xdf\\xc5\\x10i\\xaf\\xf7\\xc6$\\xb8\\xac\\xe1\\xa6C ]\\'I\\x04\\x83Z\\xa3I\\r\\xcf\\x97)\\x89\"tT\\xe7Nq\\x16%Jl\\x17=n\\x92x\\xcc\\x92\\xa3\\x0cx\\xb7S\\xe3D_=// ,L\\x8ca&\\xf5\\x10\\xb2G\\x16d\\x96\\x15#\\t\\xdbB\\x88/n\\xc3\\xaa%2\\'z\\xa9L\\xe3\\xc0z\\x8f[/\\x83p%\\xc6F\\xe7\\xc5\\xc8\\xee\\x18\\xd8\\xab:-u$\\x89\\xf9\\x80\\x9c\\xe5\\xae0\\xf1\\x06\\xc5\\x1b8!\\x8d\\x95\\xda\\xe5w-\\x91&\\xc5\\xd6\\xa0=\\xcdY\\xa6\\\\\\xfb\\xd1J\\xb4\\xcc\\x0cjH\\xbc^\\xd3)\\x9b\\x05=\\xee\\xe5\\x95\\xe2\\xe2m\\nQDlr<Bj\\xe7q\\xbb\\x1a\\xc7s\\x92\\xfaE\\xbb\\xa2p\\x81\\x16X=O0\\x86\\xbb\\x17\\xbc\\x7f\\xb2\\x8c\\xef\\x1fLXr\\\\E\\x03g\\x13*\\'\\x15\\xc5\\xfc\\xd3\\x19\\xe4\\x9bFC\\x97\\xe5\\xebW\\xcee\\x834\\xd8\\x88\\xe7\\x0b\\x16W\\xdbfT\\x8ft\\x80+\\xcb\\xbab\\x93\\xcb\\xb4\\xf7p\\x1e\\xf7\\xe0^?\\xab\\x90\\n\\xe7x\\xd7i\\t\\xdcR\\xe0\\xcd)\\t\\xf4F\\xce\\x80-\\xe3\\xe0\\xf0\\x0e\\'\\x1c\\xbf\\xfb\\x9b\\x84!\\xe8Sb\\x0b\\x02=\\xfb\\xae\\x88\\xe3\\xa7\\xe9T\\xc5!\\x82\\xb7\\xaeXk\\x90R\\x84\\x99M\\xea\\x04\\xc7\\x8b\\xf9\\xf4`y\\xa5C\\xc8j\\xbe\\x9cb\\x19\\xaf\\xb9\\x01\\xd2\\x1ev\\xd8g\\x91.N1$\\xf6>\\xb6P\\xf6\\x87\\xad\\xb4;\\xec,\\xbf\\xfb\\x90\\xba\\x95\\x07\\x07\\x92&%^\\xc3\\xf3\\'\\x1c\\xe8\\x92\\xd0\\x8f?\\x7f2\\xc4\\x15R\\x9by\\xe6q\\x9b\\x0cp\\x9e\\r\\x7fZ?[.\\xe8)\\xd1\\x83\\xfd(-\\x9e\\x7f\\xfa\\x0c1O\\xaf\\xec}\\xa8 \\xa37\\xe5\\xf1\\xac\\xa7\\xfb\\xefY\\x07\\x14Y*JMG\\x81\\xc4\\'\\x0b\\x97\\xe6(\"\\xc1y\\x0ea\\x06\\t\\x17\\x01\\x0f\\xef\\x19r\\xc2\\x15\\xb0c\\xf0\\x1a`\\xa9\\xf3\\xe6\\x00a\\\\\\r\\x9cV\\xd3\\xecn@2$M\\xc4\\x1d\\xc5\\xe8\\xeb\\xd6\\x92\\x0c\\xa9\\xe8\\x84\\xd2\\xdbEB\\x96\\x02\\x0b\\xa1\\x1cX\\xec^\\x82\\x16d\\xcaUz\\xb6\\x17C\\x8b\\xb2At5\\x81\\xc4\\x18E\\x8fu\\x08>\\x1d\\x10\\xba\\xb5\\xb3\\xc3\\xe8\\x88B\\xd0\\xc4\\x14\\xfb\\xf4\\xd1F\\xd4\\xf9\\xbe\\x83T\\x1e`\\xbd\\x8b\\xc2e\\x81\\xc1\\x12H\\x91\\xf7\\xcd\\xef\\xb1$^~%u\\x03\\xd2\\x84\\xda\\x90lm\\xc8\\x9b\\x04\\xb1\\xcd\\xdb\\x9f\\x18\\xa7\\x89\\xae9L]\\x96\\xe6J\\xb7\\\\\\x8f\\x18Q\\x15\\x14&\\x7f{,\\xca\\x94\\x87\\x9b\\x9ea\\xc3c\\xc2\\x15:\\xff\\xa0%\\x10\\xebw~s\\xc2\\xf8[\\xcd\\x0b\\x1a\\xbe\\x13\\xdd=\\xdf\\xe9\\xa9_\\xf6\\xfcF\\x1a2n\\x8fJ\\xd5\\xa2\\x99g\\x97Of\\xb5..\\xd0\\xb8\\x05\\x9e\\x05\\xc2\\xa8i\\x7f\\xfbQ\\xb3\\xc1\\x90-\\xa3\\xa1%7\\x97\\x81\\x17cI\\xddt\\xe9\\x02zN7\\xda\\xdb\\x1a[y\\xc9\\xfd\\x1c\\xa7\\xd8\\xca\\xc7\\xc8\\\\\\xd7\\x1b\\xed\\x14d\\x04bk.X\\xf3\\xac\\x86A\\xd0o\\xdd\\xb9\\xe4\\xec\\x86\\x19\\xc4+\\x1a\\x8a\\xa9\\x93\\xd9\\xa1\\xaa\\r\\x1e\\xe8\\x9f\\xae&v\\xa9\\xe8\\xfc\\xdeSPk\\x05\\xf6\\x10T1\\xd2\\x8aE\\xb9\\xa5TK\\x9c\\x87{\\x01L\\xaf\\x93\\x04\\xf1b\\xf66\\xe4\\xb1\\xc1,\\xfdd@\\xe8\\xd8\\x94\\x1aF;\\xc3C\\x96m\\xfe\\x8a#\\x84b\\xb9\\x9d\\xaf\\xcd\\x8b\\x91\\xc8\\xf9\\xd3\\x0e\\x9aaN\\x8e3\\xe88;;\\x0e\\xdf1\\xc2\\x10t\\xf8\\\\\\xf3\\xd2F\\x0c!\\xdf?\\n\\xd1\\x8e\\x90N\\x10\\n.\\xb7\\xd7lD\\x9c\\xb9)\\t\\xcc\\xa3|2\\xf1\\xec\\x86\\x1d\\xc7\\xd2\\xdc\\x1eN\\xe7wj\\x1d)\\x10>\\xb6=\\xaev\\xd5\"\\xac\\xb0\\xb2\\xe9XU\\xaf\\x80\\xf5\\x19\\xa4\\xfbJ\\xaf\\xcaR\\xfe\\xaee8\\xe8\\x867xL\\xe7\\xef\\x9e\\xb3\\x930l2\\xf6\\xfb\\x94Q\\x18\\xa9\\x99\\xb9f\\x81\\xa0\\x19\\xcb\\x99mN\\x0c\\xf8n\\x8c\\xca\\xca$}s\\xac@@I\\xd1\\x9b\\xe0\\xcap#\\xcc\\xeb\\xb1x\\x8d\\xb1\\xb7\\x7f\\xc2VhL\\x92\\xdf(\\x81\\x85\\xd4\\xf4\\xc7L\\xecD\\x90\\xe0\\'\\x10\\xe5KB\\xfe\\xb5\\x9c\\xce\\x0b\\x97E\\x19Z7#\\x81Q{\\xb6C\\xc3\\r2\\xaf\\xe2\\xc2\\xce\\x8d\\x1dd_\\xdd/sFi\\xe1,\\xe1|\\xcf\\x92:\\x86\\xc1w\\x8dH\\x9a\\xb4p\\xeb\\xdb\\xb2\\x95\\x11\\x91\\x86R\\xb9\\x91\\xe4\\x8b\\x17.+J\\nF\\xec\\xc9%\\xa3\\x1e\\xcd9\\xe4\\xf2q\\xde\\xb8\\x88\\xb7s\\x8e\\x05\\x99U\\xfcN\\xa0O\\x96\\xe3\\xe6\\xf5\\xb8@&\\xf9\\xc0\\xd4\\xc1SYS\\x98t\\xd3\\xc8\\xe8\\x90\\xc8\\x14\\xc1\\xfd\\xd8\\x08\\xc4\\x9c\\xa5\\xbd\\x9f\\xfdu\\xbepb\\xceG\\xe01\\xb3\\xb6\"\\xc8\\x81\\x95\\x0b`\\xc2t!c0\\xea\\xcbK\\xb4Fs\\xc9T\\xa0Z\\xd8-\\xbb\\xb6|\\x9c\\x82|g\\x81\\xe3\\xea\\xb2\\xc6p\\x94^>\\xb9\\t\\xc1w\\x8c,\\x85\\xed\\xe4:O.h\\x05\\xccO\\x05.\\x0e2\\xc4\\xab>c\\xea\\xf8u\\xe6\\x1a&\\x915\\x90\\xf2\\xa1\\xbd\\x9dvo\\xf8*L\\xad\\xeb\\x84}O\\xc3\\x7f\\x88\\x05\\xbdJ\\x84\\xd2\\xf6\\x8cC\\x82\\xba\\xcbl\\x05\\xd4i\\xf6\\xd8\\n\\xa7\\x14\\xb9=\\xa9\\x96$\\x07i\\xd85P\\x14\\xe6\\xfbb\\xae\\t\\xaaB\\x0e~Ckj\\xa2\\x82\\x87/\\xd1\\x98\\xe7\\rk\\xaa\\xe8\\xdc\\xe92\\xa4P&\\xce\\xdd\\x842T&\\x8f\\x04k\\xaba\\xb8\\xccH\\x08\\xc4^\\xb2\\x97\\xe3k\\x96\\x86\\x9c\\x128r\\x98>b\\xac\\xac\\x1f\\xe7\\x16\\xa6\\xde\\xe5%\\x18#1\\xfc|\\xa3F\\x16\\xe4\\x9c\\xda\\xdb\\xcfC\\xb7\\xd5&y=\\x1a \\x05c37\\xc7\\xe0\\xb3\\xf1\\x14\\x0e\\xf1I\\xbdR\\xa41\\xd7[\\xf7OY\\x98\\xd1\\xd6w\\x11\\xbc \\xcb*\\x1bD\\xef\\xb2\\x9a\\x9d\\x07\\xd3\\xf6\\xf9 \\xe3aK\\xb4\\xff\\xfa ]\\xdd[\\xb4@\\xb5>\\r\\x9dV\\x0c\\xe4\\x00\\xb5\\x00\\xb1!EWn\\xc8\\xf9r\\xe8\\xb8P\\x18\\x15Q\\x9a\\xad.\\xf9\\xf1E\\xeb\\x7fj|\\xd6k\\xc3rs\\xaeA\\xea\\xec-1C\\xb4<\\xe5Sz2-\\x01\\xd2fs%.\\x16(W.=\\xd6\\x01\\xb6\\x00\\xc3@\\xd3\\xd2*\\xf9\\xaa\\x02\\t\\xe5\\xfb)\\xeb\\xf6CJh5\\xcf%\\xb6\\xc3\\xd6\\xa8R\\x0f\\xac\\x87\\xd0\\xb1\\x9e{\\x062<\\xc4gB^\\xd2\\xcf\\xa8\\x94\\x0f\\x81\\xc4\\x8d\")\\xea\\xfc\\x98\\x8a~!\\xbf\\xc1\\xa0\\xd3{Wi\\xf7\\x90\\xc5\\xbekL\\xed^\\xb6\\xfc\\xbb3\\x9b\\x0e\\xa4j\\x9f\\x9e(m\\x0c+\\xebn\\xd9\\xea\\x10\\xec\\x81\\xc2zJ\\xae?\\x94\\xa0\\xd2\\xa6\\r\\xa5s\\xda\\n)r\\xa6\\\\Q0Ml_y\\x03\"\\x14\\xfd\\x13\\xab\\xa3Z\\xb1\\xce\\xaa\\x168\\xff\\x02\\tz\\x12\\xb6\\x05*\\x0f\\xb7\\xac\\x16\\xbc\\x95\\x1b\\'\\xd6\\xe0\\xe1\\x8e\\x81\\xeb\\xae\\xe6\\xfa\\xf0\\xabvp;\\xe5\\xde\\xfc8\\xe05\\xa9\\xd8H\\xef \\xe3o\\xe2\\x9cX?\\n\\x14\\xa3\\x97J\\x8b\\x1e2\\xd0\"5te\\xc6\\xb8\\t!\\xec\\xb2\\xcd:\\xc9X\\xe8\\xb3s3\\x11)\\xfb\\x15Y\\xae\\xca\\x1a,N/\\x8a\\x05\\x8b\\x9byTg\\x99\\xd22~\\x92a\\x8a\\x11\\x1f\\xf9\\x18!\\xcf\\xdf,\"|l\\xf0\\x83>\\xe5Bz\\xd6\\n\\xaf\\x06oV\\xc2\\x06Q\\x16\\xae\\xc5M\\x9f\\x8e08k\\xa0\\xf0B\\xb1\\x1d\\xb7\\xad\\xa2(l\\x13\\x07\\xa2;\\xb17\\xf9\\x99\\x11U\\xf7X\\x83R<3\\xb53\\xfa\\xd1\\xb5\\x04~R|^\\x074\\x1f\\x10\\x14\\xb2%\\xf8\\xe4\\x1e]\\x94\\xb8Hbh\\x85\\x1a]{\\x97\\xc6\\x90\\xcb\\x0f1\\t\\xf5\\x01\\xc7\\xe9k\\xfbB\\xca\\xa3\\x07)\\\\\"\\x15G\\x19n\\xd6\\x10\\x8e\\xcb\\xf7\\xb2\\xe8x\\x12\\xb5;*\\xc1m=\\x83j\\xbc\\x90\\xcb\\xd4\\xc4LZ\\xd3\\xf0<\\xed\\xf9\\xe8>W)P\\x94N\\xb9)\\x7fD\\t\\xbb\\xd4\\x9d?\\x995\\xc3\\x8ew\\xb1\\xc8R\\xc6.P\\xf2\\x9c\\x19\\x05\\xe8\\x8a\\xc8\\x05H\\xe5_\\x92\\x00O\\xca,\\x1b^a7~\\x13n\\xba*\\x163\\xbav\\x91.#4\\x03\\x9cL\\x88\\x9cU\\xdd\\xc1Y?Cyq5\\xf9.\\xf7\\xfe\\x15\\xb6\\xa3\\x93zbH}\\r\\x92OU\\xb3,\\xc4\\x98v\\xc6\\xceM\\x18\\xe4L\\xb2\\xfe\\xf5d\\x82\"\\xe7\\x1e\\xf4D\\x11\\xf1*\\x06\"\\x82ek\\xc4\\'\\x01\\\\\\xa0`\\x15S\\x04XZ\\'\\xe8]\\xa7\\x9b\\x06{\\'\\xccl\\xd0\\x1cv\\xd6\\x1b\\xa1P\\x19\\x98\\xf3\\x89l\\xc5\\xf6\\\\w\\xc6\\xe8\\xc7F\\x1a,\\x98\\xf84LIs\\xcc,\\x13\\xd5\\xc2\\x16o9\\x11YR\\xab0\\xf5&\\xc2\\xc0\\x08r\\xe8\\xfb\\x04;3\\xb5\\n\\x96\\x0br\\xbe\\xb2\\xa1\\x04i\\xaf\\x84yE\\x0e.\\x7fp\\xa0\\x10}\\xd3\\xe8\\xf0\\x17\\xc6\\xd8\\xab\\x9a\\xbc\\x97U\\x98`\\x1fx\\t\\xa1\\xf9\\xa1\\xb8\\xb5\\x01\\xde=\\x8e<\\x08\\x83O\\x96\\xca\\x1f&\\xd6\\xdd\\xda\\x11!\\xec\\xcdZ\\xf5\\xc8\\xbf\\x889;{\\xabM\\xb9\\xa4,\\xc3\\x1e\\xef\\x8c\\xbb}\\x933\\xfbI<\\x9aPH\\xcd\\x1f\\x8b\\xdb\\x1b\\xa2E\"4>\\xc2\\x93\\xa5\\xa0@P\\x8f\\x93^\"\\x06\\x17\\xcau\\xb3\\'\\x92\\x02\\xee\\x897\\xeb\\x1eC\\xa6HZ\\x9d\\x1dE\\x18\\xdc\\xc7\\xc2\\x0b\\xc4\\x1d*\\x08\\xa3\\xee\\xaf\\xdeB\\xce\\x16\\xa8\\x05dS\\xf0g\\xc8t\\xc4\"W\\x9d\\xb5:\\x15\\x83\\xc7\\x93\\xd6$<\\xd2<\\x8f\\xd2[)48JAXl\\xdc\\xadh\\x82\\xf1\\xe5\\x11\\xda\\'\\xf1\\x84\\x90\\xf0t\\xc4\\xad$\\xb298M`\\x8f[\\xc8\\x94\\xd6=\\xec\\xcbf\\xf0\\'\\x98\\x9bXo\\x11\\x87\\xcf\\x82\\x96\\x8b\\x80K9\\x16\\xa1\\xe6N\\x185\\xb6)\\x88\\x1cn{\\xcc\\xcd\\x93\\xae\\x83\\xb0B\\x8d\\x1f\\xd6R\\xa5i\\x1e*\\x96X)\\xf4+\\xd4o)\\xee\\xe6<R\\xf9\\xee\\xb3`t\\x12\\x8aQ=\\x08=\\x97k\\xfc3%\\xf9\\xcb\\x127\\x8c\\xc5]\\x88\\x8bbq@!\\xe7c!k\\xd7\\xd4\\nb\\x8fEm]\\x1d\\x8b\\x1b\\x8f\\'\\xa7\\xa8\\x06\\x7f\\t\\x1c^l[\\x84\\x0cT\\xbf:\\xd9\\xd0\\x19n\\x88\\xbb)`Myp-\\x96\\xf6J+H\\x94e\\xb7\\x9b\\xab\\x11\\x03\\x055\\x1c\\x1e9t\\x92\\x90\\xa3 8\\xc7\\xf7\\xa5j\\xa16\\xdb\\xe7\\xf7\\x9e\\xd2\\xf6\\x9a\\xbc\\xabQ\\x94\\x8d~F\\xd1\\x93,\\x81\\x10,\\x01O!\\xe9\\xc1\\xb3\\x11\\xd2[Y\\r\\xf3\\xbd\\xad\\xa5\\xaaY\\xe3/\\xc0\\xd3\\xf1\\x81J\\x05:B\\x96k\\xdcP\\x10\\xf47\\xcd\\xb61\\x06\\'4JC&\\'\\xda6\\xf3\\xb9\\x8b\\x8e!\\xe6\\xab\\x86\\xc5M\\xb4k\\xc70\\xd7\\xf8\\xcb\\xf9l0\\xebs\\xaa@y\\x95\\xe6eQb\\x9e\\xb4y\\xfe\\x0fPK\\x01\\x023\\x00-\\x00\\x00\\x00\\x08\\x00X\\x92,T\\xf8q\\xf3\\xd7\\xff\\xff\\xff\\xff\\xff\\xff\\xff\\xff\\x0b\\x00\\x14\\x00\\x00\\x00\\x00\\x00\\x00\\x00\\x00\\x00\\x00\\x00\\x00\\x00\\x00\\x00Housing.csv\\x01\\x00\\x10\\x00\\x1du\\x00\\x00\\x00\\x00\\x00\\x00\\xe4\\x11\\x00\\x00\\x00\\x00\\x00\\x00PK\\x05\\x06\\x00\\x00\\x00\\x00\\x01\\x00\\x01\\x00M\\x00\\x00\\x00!\\x12\\x00\\x00\\x00\\x00'}"
            ]
          },
          "metadata": {},
          "execution_count": 4
        }
      ]
    },
    {
      "cell_type": "code",
      "source": [
        "!unzip housing_prices_dataset.zip"
      ],
      "metadata": {
        "colab": {
          "base_uri": "https://localhost:8080/"
        },
        "id": "NOMTeQep-i6X",
        "outputId": "3dcb143c-554f-40f3-a873-0c19c9f76224"
      },
      "execution_count": null,
      "outputs": [
        {
          "output_type": "stream",
          "name": "stdout",
          "text": [
            "Archive:  housing_prices_dataset.zip\n",
            "  inflating: Housing.csv             \n"
          ]
        }
      ]
    },
    {
      "cell_type": "code",
      "source": [
        "data = pd.read_csv(\"Housing.csv\")\n",
        "print(data.shape)\n",
        "data.head()"
      ],
      "metadata": {
        "id": "WReoAVYU7Qnv",
        "colab": {
          "base_uri": "https://localhost:8080/",
          "height": 243
        },
        "outputId": "9bf9812b-21bb-4517-cca8-35ac60b5d7e0"
      },
      "execution_count": null,
      "outputs": [
        {
          "output_type": "stream",
          "name": "stdout",
          "text": [
            "(545, 13)\n"
          ]
        },
        {
          "output_type": "execute_result",
          "data": {
            "text/plain": [
              "      price  area  bedrooms  bathrooms  stories mainroad guestroom basement  \\\n",
              "0  13300000  7420         4          2        3      yes        no       no   \n",
              "1  12250000  8960         4          4        4      yes        no       no   \n",
              "2  12250000  9960         3          2        2      yes        no      yes   \n",
              "3  12215000  7500         4          2        2      yes        no      yes   \n",
              "4  11410000  7420         4          1        2      yes       yes      yes   \n",
              "\n",
              "  hotwaterheating airconditioning  parking prefarea furnishingstatus  \n",
              "0              no             yes        2      yes        furnished  \n",
              "1              no             yes        3       no        furnished  \n",
              "2              no              no        2      yes   semi-furnished  \n",
              "3              no             yes        3      yes        furnished  \n",
              "4              no             yes        2       no        furnished  "
            ],
            "text/html": [
              "\n",
              "  <div id=\"df-6bd5cfcc-1df4-4ae5-b7b2-38573055573a\" class=\"colab-df-container\">\n",
              "    <div>\n",
              "<style scoped>\n",
              "    .dataframe tbody tr th:only-of-type {\n",
              "        vertical-align: middle;\n",
              "    }\n",
              "\n",
              "    .dataframe tbody tr th {\n",
              "        vertical-align: top;\n",
              "    }\n",
              "\n",
              "    .dataframe thead th {\n",
              "        text-align: right;\n",
              "    }\n",
              "</style>\n",
              "<table border=\"1\" class=\"dataframe\">\n",
              "  <thead>\n",
              "    <tr style=\"text-align: right;\">\n",
              "      <th></th>\n",
              "      <th>price</th>\n",
              "      <th>area</th>\n",
              "      <th>bedrooms</th>\n",
              "      <th>bathrooms</th>\n",
              "      <th>stories</th>\n",
              "      <th>mainroad</th>\n",
              "      <th>guestroom</th>\n",
              "      <th>basement</th>\n",
              "      <th>hotwaterheating</th>\n",
              "      <th>airconditioning</th>\n",
              "      <th>parking</th>\n",
              "      <th>prefarea</th>\n",
              "      <th>furnishingstatus</th>\n",
              "    </tr>\n",
              "  </thead>\n",
              "  <tbody>\n",
              "    <tr>\n",
              "      <th>0</th>\n",
              "      <td>13300000</td>\n",
              "      <td>7420</td>\n",
              "      <td>4</td>\n",
              "      <td>2</td>\n",
              "      <td>3</td>\n",
              "      <td>yes</td>\n",
              "      <td>no</td>\n",
              "      <td>no</td>\n",
              "      <td>no</td>\n",
              "      <td>yes</td>\n",
              "      <td>2</td>\n",
              "      <td>yes</td>\n",
              "      <td>furnished</td>\n",
              "    </tr>\n",
              "    <tr>\n",
              "      <th>1</th>\n",
              "      <td>12250000</td>\n",
              "      <td>8960</td>\n",
              "      <td>4</td>\n",
              "      <td>4</td>\n",
              "      <td>4</td>\n",
              "      <td>yes</td>\n",
              "      <td>no</td>\n",
              "      <td>no</td>\n",
              "      <td>no</td>\n",
              "      <td>yes</td>\n",
              "      <td>3</td>\n",
              "      <td>no</td>\n",
              "      <td>furnished</td>\n",
              "    </tr>\n",
              "    <tr>\n",
              "      <th>2</th>\n",
              "      <td>12250000</td>\n",
              "      <td>9960</td>\n",
              "      <td>3</td>\n",
              "      <td>2</td>\n",
              "      <td>2</td>\n",
              "      <td>yes</td>\n",
              "      <td>no</td>\n",
              "      <td>yes</td>\n",
              "      <td>no</td>\n",
              "      <td>no</td>\n",
              "      <td>2</td>\n",
              "      <td>yes</td>\n",
              "      <td>semi-furnished</td>\n",
              "    </tr>\n",
              "    <tr>\n",
              "      <th>3</th>\n",
              "      <td>12215000</td>\n",
              "      <td>7500</td>\n",
              "      <td>4</td>\n",
              "      <td>2</td>\n",
              "      <td>2</td>\n",
              "      <td>yes</td>\n",
              "      <td>no</td>\n",
              "      <td>yes</td>\n",
              "      <td>no</td>\n",
              "      <td>yes</td>\n",
              "      <td>3</td>\n",
              "      <td>yes</td>\n",
              "      <td>furnished</td>\n",
              "    </tr>\n",
              "    <tr>\n",
              "      <th>4</th>\n",
              "      <td>11410000</td>\n",
              "      <td>7420</td>\n",
              "      <td>4</td>\n",
              "      <td>1</td>\n",
              "      <td>2</td>\n",
              "      <td>yes</td>\n",
              "      <td>yes</td>\n",
              "      <td>yes</td>\n",
              "      <td>no</td>\n",
              "      <td>yes</td>\n",
              "      <td>2</td>\n",
              "      <td>no</td>\n",
              "      <td>furnished</td>\n",
              "    </tr>\n",
              "  </tbody>\n",
              "</table>\n",
              "</div>\n",
              "    <div class=\"colab-df-buttons\">\n",
              "\n",
              "  <div class=\"colab-df-container\">\n",
              "    <button class=\"colab-df-convert\" onclick=\"convertToInteractive('df-6bd5cfcc-1df4-4ae5-b7b2-38573055573a')\"\n",
              "            title=\"Convert this dataframe to an interactive table.\"\n",
              "            style=\"display:none;\">\n",
              "\n",
              "  <svg xmlns=\"http://www.w3.org/2000/svg\" height=\"24px\" viewBox=\"0 -960 960 960\">\n",
              "    <path d=\"M120-120v-720h720v720H120Zm60-500h600v-160H180v160Zm220 220h160v-160H400v160Zm0 220h160v-160H400v160ZM180-400h160v-160H180v160Zm440 0h160v-160H620v160ZM180-180h160v-160H180v160Zm440 0h160v-160H620v160Z\"/>\n",
              "  </svg>\n",
              "    </button>\n",
              "\n",
              "  <style>\n",
              "    .colab-df-container {\n",
              "      display:flex;\n",
              "      gap: 12px;\n",
              "    }\n",
              "\n",
              "    .colab-df-convert {\n",
              "      background-color: #E8F0FE;\n",
              "      border: none;\n",
              "      border-radius: 50%;\n",
              "      cursor: pointer;\n",
              "      display: none;\n",
              "      fill: #1967D2;\n",
              "      height: 32px;\n",
              "      padding: 0 0 0 0;\n",
              "      width: 32px;\n",
              "    }\n",
              "\n",
              "    .colab-df-convert:hover {\n",
              "      background-color: #E2EBFA;\n",
              "      box-shadow: 0px 1px 2px rgba(60, 64, 67, 0.3), 0px 1px 3px 1px rgba(60, 64, 67, 0.15);\n",
              "      fill: #174EA6;\n",
              "    }\n",
              "\n",
              "    .colab-df-buttons div {\n",
              "      margin-bottom: 4px;\n",
              "    }\n",
              "\n",
              "    [theme=dark] .colab-df-convert {\n",
              "      background-color: #3B4455;\n",
              "      fill: #D2E3FC;\n",
              "    }\n",
              "\n",
              "    [theme=dark] .colab-df-convert:hover {\n",
              "      background-color: #434B5C;\n",
              "      box-shadow: 0px 1px 3px 1px rgba(0, 0, 0, 0.15);\n",
              "      filter: drop-shadow(0px 1px 2px rgba(0, 0, 0, 0.3));\n",
              "      fill: #FFFFFF;\n",
              "    }\n",
              "  </style>\n",
              "\n",
              "    <script>\n",
              "      const buttonEl =\n",
              "        document.querySelector('#df-6bd5cfcc-1df4-4ae5-b7b2-38573055573a button.colab-df-convert');\n",
              "      buttonEl.style.display =\n",
              "        google.colab.kernel.accessAllowed ? 'block' : 'none';\n",
              "\n",
              "      async function convertToInteractive(key) {\n",
              "        const element = document.querySelector('#df-6bd5cfcc-1df4-4ae5-b7b2-38573055573a');\n",
              "        const dataTable =\n",
              "          await google.colab.kernel.invokeFunction('convertToInteractive',\n",
              "                                                    [key], {});\n",
              "        if (!dataTable) return;\n",
              "\n",
              "        const docLinkHtml = 'Like what you see? Visit the ' +\n",
              "          '<a target=\"_blank\" href=https://colab.research.google.com/notebooks/data_table.ipynb>data table notebook</a>'\n",
              "          + ' to learn more about interactive tables.';\n",
              "        element.innerHTML = '';\n",
              "        dataTable['output_type'] = 'display_data';\n",
              "        await google.colab.output.renderOutput(dataTable, element);\n",
              "        const docLink = document.createElement('div');\n",
              "        docLink.innerHTML = docLinkHtml;\n",
              "        element.appendChild(docLink);\n",
              "      }\n",
              "    </script>\n",
              "  </div>\n",
              "\n",
              "\n",
              "<div id=\"df-314f8072-56f9-4028-8ffd-d216b5f3e6f9\">\n",
              "  <button class=\"colab-df-quickchart\" onclick=\"quickchart('df-314f8072-56f9-4028-8ffd-d216b5f3e6f9')\"\n",
              "            title=\"Suggest charts.\"\n",
              "            style=\"display:none;\">\n",
              "\n",
              "<svg xmlns=\"http://www.w3.org/2000/svg\" height=\"24px\"viewBox=\"0 0 24 24\"\n",
              "     width=\"24px\">\n",
              "    <g>\n",
              "        <path d=\"M19 3H5c-1.1 0-2 .9-2 2v14c0 1.1.9 2 2 2h14c1.1 0 2-.9 2-2V5c0-1.1-.9-2-2-2zM9 17H7v-7h2v7zm4 0h-2V7h2v10zm4 0h-2v-4h2v4z\"/>\n",
              "    </g>\n",
              "</svg>\n",
              "  </button>\n",
              "\n",
              "<style>\n",
              "  .colab-df-quickchart {\n",
              "      --bg-color: #E8F0FE;\n",
              "      --fill-color: #1967D2;\n",
              "      --hover-bg-color: #E2EBFA;\n",
              "      --hover-fill-color: #174EA6;\n",
              "      --disabled-fill-color: #AAA;\n",
              "      --disabled-bg-color: #DDD;\n",
              "  }\n",
              "\n",
              "  [theme=dark] .colab-df-quickchart {\n",
              "      --bg-color: #3B4455;\n",
              "      --fill-color: #D2E3FC;\n",
              "      --hover-bg-color: #434B5C;\n",
              "      --hover-fill-color: #FFFFFF;\n",
              "      --disabled-bg-color: #3B4455;\n",
              "      --disabled-fill-color: #666;\n",
              "  }\n",
              "\n",
              "  .colab-df-quickchart {\n",
              "    background-color: var(--bg-color);\n",
              "    border: none;\n",
              "    border-radius: 50%;\n",
              "    cursor: pointer;\n",
              "    display: none;\n",
              "    fill: var(--fill-color);\n",
              "    height: 32px;\n",
              "    padding: 0;\n",
              "    width: 32px;\n",
              "  }\n",
              "\n",
              "  .colab-df-quickchart:hover {\n",
              "    background-color: var(--hover-bg-color);\n",
              "    box-shadow: 0 1px 2px rgba(60, 64, 67, 0.3), 0 1px 3px 1px rgba(60, 64, 67, 0.15);\n",
              "    fill: var(--button-hover-fill-color);\n",
              "  }\n",
              "\n",
              "  .colab-df-quickchart-complete:disabled,\n",
              "  .colab-df-quickchart-complete:disabled:hover {\n",
              "    background-color: var(--disabled-bg-color);\n",
              "    fill: var(--disabled-fill-color);\n",
              "    box-shadow: none;\n",
              "  }\n",
              "\n",
              "  .colab-df-spinner {\n",
              "    border: 2px solid var(--fill-color);\n",
              "    border-color: transparent;\n",
              "    border-bottom-color: var(--fill-color);\n",
              "    animation:\n",
              "      spin 1s steps(1) infinite;\n",
              "  }\n",
              "\n",
              "  @keyframes spin {\n",
              "    0% {\n",
              "      border-color: transparent;\n",
              "      border-bottom-color: var(--fill-color);\n",
              "      border-left-color: var(--fill-color);\n",
              "    }\n",
              "    20% {\n",
              "      border-color: transparent;\n",
              "      border-left-color: var(--fill-color);\n",
              "      border-top-color: var(--fill-color);\n",
              "    }\n",
              "    30% {\n",
              "      border-color: transparent;\n",
              "      border-left-color: var(--fill-color);\n",
              "      border-top-color: var(--fill-color);\n",
              "      border-right-color: var(--fill-color);\n",
              "    }\n",
              "    40% {\n",
              "      border-color: transparent;\n",
              "      border-right-color: var(--fill-color);\n",
              "      border-top-color: var(--fill-color);\n",
              "    }\n",
              "    60% {\n",
              "      border-color: transparent;\n",
              "      border-right-color: var(--fill-color);\n",
              "    }\n",
              "    80% {\n",
              "      border-color: transparent;\n",
              "      border-right-color: var(--fill-color);\n",
              "      border-bottom-color: var(--fill-color);\n",
              "    }\n",
              "    90% {\n",
              "      border-color: transparent;\n",
              "      border-bottom-color: var(--fill-color);\n",
              "    }\n",
              "  }\n",
              "</style>\n",
              "\n",
              "  <script>\n",
              "    async function quickchart(key) {\n",
              "      const quickchartButtonEl =\n",
              "        document.querySelector('#' + key + ' button');\n",
              "      quickchartButtonEl.disabled = true;  // To prevent multiple clicks.\n",
              "      quickchartButtonEl.classList.add('colab-df-spinner');\n",
              "      try {\n",
              "        const charts = await google.colab.kernel.invokeFunction(\n",
              "            'suggestCharts', [key], {});\n",
              "      } catch (error) {\n",
              "        console.error('Error during call to suggestCharts:', error);\n",
              "      }\n",
              "      quickchartButtonEl.classList.remove('colab-df-spinner');\n",
              "      quickchartButtonEl.classList.add('colab-df-quickchart-complete');\n",
              "    }\n",
              "    (() => {\n",
              "      let quickchartButtonEl =\n",
              "        document.querySelector('#df-314f8072-56f9-4028-8ffd-d216b5f3e6f9 button');\n",
              "      quickchartButtonEl.style.display =\n",
              "        google.colab.kernel.accessAllowed ? 'block' : 'none';\n",
              "    })();\n",
              "  </script>\n",
              "</div>\n",
              "    </div>\n",
              "  </div>\n"
            ]
          },
          "metadata": {},
          "execution_count": 48
        }
      ]
    },
    {
      "cell_type": "code",
      "source": [
        "data.info()"
      ],
      "metadata": {
        "colab": {
          "base_uri": "https://localhost:8080/"
        },
        "id": "eful_2FdXh4o",
        "outputId": "e0536cb3-0ae3-4ec5-9396-74c4d1c374e1"
      },
      "execution_count": null,
      "outputs": [
        {
          "output_type": "stream",
          "name": "stdout",
          "text": [
            "<class 'pandas.core.frame.DataFrame'>\n",
            "RangeIndex: 545 entries, 0 to 544\n",
            "Data columns (total 13 columns):\n",
            " #   Column            Non-Null Count  Dtype \n",
            "---  ------            --------------  ----- \n",
            " 0   price             545 non-null    int64 \n",
            " 1   area              545 non-null    int64 \n",
            " 2   bedrooms          545 non-null    int64 \n",
            " 3   bathrooms         545 non-null    int64 \n",
            " 4   stories           545 non-null    int64 \n",
            " 5   mainroad          545 non-null    object\n",
            " 6   guestroom         545 non-null    object\n",
            " 7   basement          545 non-null    object\n",
            " 8   hotwaterheating   545 non-null    object\n",
            " 9   airconditioning   545 non-null    object\n",
            " 10  parking           545 non-null    int64 \n",
            " 11  prefarea          545 non-null    object\n",
            " 12  furnishingstatus  545 non-null    object\n",
            "dtypes: int64(6), object(7)\n",
            "memory usage: 55.5+ KB\n"
          ]
        }
      ]
    },
    {
      "cell_type": "code",
      "source": [
        "data.columns"
      ],
      "metadata": {
        "colab": {
          "base_uri": "https://localhost:8080/"
        },
        "id": "fehYZCUEX31S",
        "outputId": "54bc4dc0-d6b6-4643-dbde-7c02bb3cfc81"
      },
      "execution_count": null,
      "outputs": [
        {
          "output_type": "execute_result",
          "data": {
            "text/plain": [
              "Index(['price', 'area', 'bedrooms', 'bathrooms', 'stories', 'mainroad',\n",
              "       'guestroom', 'basement', 'hotwaterheating', 'airconditioning',\n",
              "       'parking', 'prefarea', 'furnishingstatus'],\n",
              "      dtype='object')"
            ]
          },
          "metadata": {},
          "execution_count": 50
        }
      ]
    },
    {
      "cell_type": "code",
      "source": [
        "data.isna().sum()"
      ],
      "metadata": {
        "colab": {
          "base_uri": "https://localhost:8080/"
        },
        "id": "EEG0kC16X_fC",
        "outputId": "7f553b24-20f8-4f40-abd5-2515f1ab6d43"
      },
      "execution_count": null,
      "outputs": [
        {
          "output_type": "execute_result",
          "data": {
            "text/plain": [
              "price               0\n",
              "area                0\n",
              "bedrooms            0\n",
              "bathrooms           0\n",
              "stories             0\n",
              "mainroad            0\n",
              "guestroom           0\n",
              "basement            0\n",
              "hotwaterheating     0\n",
              "airconditioning     0\n",
              "parking             0\n",
              "prefarea            0\n",
              "furnishingstatus    0\n",
              "dtype: int64"
            ]
          },
          "metadata": {},
          "execution_count": 51
        }
      ]
    },
    {
      "cell_type": "code",
      "source": [
        "#выделим категориальные признаки и числовые\n",
        "#метод select_dtypes возвращает подмножество столбцов фрейма данных на основе dtypes столбцов\n",
        "categorical_cols = data.select_dtypes(include=[\"object\"]).columns.tolist()\n",
        "print(len(categorical_cols))\n",
        "categorical_cols"
      ],
      "metadata": {
        "colab": {
          "base_uri": "https://localhost:8080/"
        },
        "id": "fSlsFrLHYFro",
        "outputId": "15ce34bd-88b9-43e3-9576-2dca8b515c5b"
      },
      "execution_count": null,
      "outputs": [
        {
          "output_type": "stream",
          "name": "stdout",
          "text": [
            "7\n"
          ]
        },
        {
          "output_type": "execute_result",
          "data": {
            "text/plain": [
              "['mainroad',\n",
              " 'guestroom',\n",
              " 'basement',\n",
              " 'hotwaterheating',\n",
              " 'airconditioning',\n",
              " 'prefarea',\n",
              " 'furnishingstatus']"
            ]
          },
          "metadata": {},
          "execution_count": 52
        }
      ]
    },
    {
      "cell_type": "code",
      "source": [
        "numeric_cols = data.select_dtypes(exclude=[\"object\"]).columns.tolist()\n",
        "print(len(numeric_cols))\n",
        "numeric_cols"
      ],
      "metadata": {
        "colab": {
          "base_uri": "https://localhost:8080/"
        },
        "id": "Nsp8-NAvYYIW",
        "outputId": "bfcf572e-2e4a-40c5-f065-488379b57036"
      },
      "execution_count": null,
      "outputs": [
        {
          "output_type": "stream",
          "name": "stdout",
          "text": [
            "6\n"
          ]
        },
        {
          "output_type": "execute_result",
          "data": {
            "text/plain": [
              "['price', 'area', 'bedrooms', 'bathrooms', 'stories', 'parking']"
            ]
          },
          "metadata": {},
          "execution_count": 53
        }
      ]
    },
    {
      "cell_type": "code",
      "source": [
        "#посмотрим, какое количество уникальных значений имеют категориальные признаки и числовые\n",
        "unic_categ = pd.DataFrame([[i,data[i].nunique()] for i in categorical_cols], columns=['column_name','num_unique']).sort_values(by=['num_unique'])"
      ],
      "metadata": {
        "id": "xIB9KUmuYaR-"
      },
      "execution_count": null,
      "outputs": []
    },
    {
      "cell_type": "code",
      "source": [
        "unic_categ"
      ],
      "metadata": {
        "colab": {
          "base_uri": "https://localhost:8080/",
          "height": 269
        },
        "id": "xZY3bj2OYcc2",
        "outputId": "a3c5835d-6f1a-412d-d09c-61e345048189"
      },
      "execution_count": null,
      "outputs": [
        {
          "output_type": "execute_result",
          "data": {
            "text/plain": [
              "        column_name  num_unique\n",
              "0          mainroad           2\n",
              "1         guestroom           2\n",
              "2          basement           2\n",
              "3   hotwaterheating           2\n",
              "4   airconditioning           2\n",
              "5          prefarea           2\n",
              "6  furnishingstatus           3"
            ],
            "text/html": [
              "\n",
              "  <div id=\"df-27e3630c-dc1b-4e4f-861a-1737c1fdbfd4\" class=\"colab-df-container\">\n",
              "    <div>\n",
              "<style scoped>\n",
              "    .dataframe tbody tr th:only-of-type {\n",
              "        vertical-align: middle;\n",
              "    }\n",
              "\n",
              "    .dataframe tbody tr th {\n",
              "        vertical-align: top;\n",
              "    }\n",
              "\n",
              "    .dataframe thead th {\n",
              "        text-align: right;\n",
              "    }\n",
              "</style>\n",
              "<table border=\"1\" class=\"dataframe\">\n",
              "  <thead>\n",
              "    <tr style=\"text-align: right;\">\n",
              "      <th></th>\n",
              "      <th>column_name</th>\n",
              "      <th>num_unique</th>\n",
              "    </tr>\n",
              "  </thead>\n",
              "  <tbody>\n",
              "    <tr>\n",
              "      <th>0</th>\n",
              "      <td>mainroad</td>\n",
              "      <td>2</td>\n",
              "    </tr>\n",
              "    <tr>\n",
              "      <th>1</th>\n",
              "      <td>guestroom</td>\n",
              "      <td>2</td>\n",
              "    </tr>\n",
              "    <tr>\n",
              "      <th>2</th>\n",
              "      <td>basement</td>\n",
              "      <td>2</td>\n",
              "    </tr>\n",
              "    <tr>\n",
              "      <th>3</th>\n",
              "      <td>hotwaterheating</td>\n",
              "      <td>2</td>\n",
              "    </tr>\n",
              "    <tr>\n",
              "      <th>4</th>\n",
              "      <td>airconditioning</td>\n",
              "      <td>2</td>\n",
              "    </tr>\n",
              "    <tr>\n",
              "      <th>5</th>\n",
              "      <td>prefarea</td>\n",
              "      <td>2</td>\n",
              "    </tr>\n",
              "    <tr>\n",
              "      <th>6</th>\n",
              "      <td>furnishingstatus</td>\n",
              "      <td>3</td>\n",
              "    </tr>\n",
              "  </tbody>\n",
              "</table>\n",
              "</div>\n",
              "    <div class=\"colab-df-buttons\">\n",
              "\n",
              "  <div class=\"colab-df-container\">\n",
              "    <button class=\"colab-df-convert\" onclick=\"convertToInteractive('df-27e3630c-dc1b-4e4f-861a-1737c1fdbfd4')\"\n",
              "            title=\"Convert this dataframe to an interactive table.\"\n",
              "            style=\"display:none;\">\n",
              "\n",
              "  <svg xmlns=\"http://www.w3.org/2000/svg\" height=\"24px\" viewBox=\"0 -960 960 960\">\n",
              "    <path d=\"M120-120v-720h720v720H120Zm60-500h600v-160H180v160Zm220 220h160v-160H400v160Zm0 220h160v-160H400v160ZM180-400h160v-160H180v160Zm440 0h160v-160H620v160ZM180-180h160v-160H180v160Zm440 0h160v-160H620v160Z\"/>\n",
              "  </svg>\n",
              "    </button>\n",
              "\n",
              "  <style>\n",
              "    .colab-df-container {\n",
              "      display:flex;\n",
              "      gap: 12px;\n",
              "    }\n",
              "\n",
              "    .colab-df-convert {\n",
              "      background-color: #E8F0FE;\n",
              "      border: none;\n",
              "      border-radius: 50%;\n",
              "      cursor: pointer;\n",
              "      display: none;\n",
              "      fill: #1967D2;\n",
              "      height: 32px;\n",
              "      padding: 0 0 0 0;\n",
              "      width: 32px;\n",
              "    }\n",
              "\n",
              "    .colab-df-convert:hover {\n",
              "      background-color: #E2EBFA;\n",
              "      box-shadow: 0px 1px 2px rgba(60, 64, 67, 0.3), 0px 1px 3px 1px rgba(60, 64, 67, 0.15);\n",
              "      fill: #174EA6;\n",
              "    }\n",
              "\n",
              "    .colab-df-buttons div {\n",
              "      margin-bottom: 4px;\n",
              "    }\n",
              "\n",
              "    [theme=dark] .colab-df-convert {\n",
              "      background-color: #3B4455;\n",
              "      fill: #D2E3FC;\n",
              "    }\n",
              "\n",
              "    [theme=dark] .colab-df-convert:hover {\n",
              "      background-color: #434B5C;\n",
              "      box-shadow: 0px 1px 3px 1px rgba(0, 0, 0, 0.15);\n",
              "      filter: drop-shadow(0px 1px 2px rgba(0, 0, 0, 0.3));\n",
              "      fill: #FFFFFF;\n",
              "    }\n",
              "  </style>\n",
              "\n",
              "    <script>\n",
              "      const buttonEl =\n",
              "        document.querySelector('#df-27e3630c-dc1b-4e4f-861a-1737c1fdbfd4 button.colab-df-convert');\n",
              "      buttonEl.style.display =\n",
              "        google.colab.kernel.accessAllowed ? 'block' : 'none';\n",
              "\n",
              "      async function convertToInteractive(key) {\n",
              "        const element = document.querySelector('#df-27e3630c-dc1b-4e4f-861a-1737c1fdbfd4');\n",
              "        const dataTable =\n",
              "          await google.colab.kernel.invokeFunction('convertToInteractive',\n",
              "                                                    [key], {});\n",
              "        if (!dataTable) return;\n",
              "\n",
              "        const docLinkHtml = 'Like what you see? Visit the ' +\n",
              "          '<a target=\"_blank\" href=https://colab.research.google.com/notebooks/data_table.ipynb>data table notebook</a>'\n",
              "          + ' to learn more about interactive tables.';\n",
              "        element.innerHTML = '';\n",
              "        dataTable['output_type'] = 'display_data';\n",
              "        await google.colab.output.renderOutput(dataTable, element);\n",
              "        const docLink = document.createElement('div');\n",
              "        docLink.innerHTML = docLinkHtml;\n",
              "        element.appendChild(docLink);\n",
              "      }\n",
              "    </script>\n",
              "  </div>\n",
              "\n",
              "\n",
              "<div id=\"df-df9c32f6-f60b-4de4-aff3-1bcf8f9f1243\">\n",
              "  <button class=\"colab-df-quickchart\" onclick=\"quickchart('df-df9c32f6-f60b-4de4-aff3-1bcf8f9f1243')\"\n",
              "            title=\"Suggest charts.\"\n",
              "            style=\"display:none;\">\n",
              "\n",
              "<svg xmlns=\"http://www.w3.org/2000/svg\" height=\"24px\"viewBox=\"0 0 24 24\"\n",
              "     width=\"24px\">\n",
              "    <g>\n",
              "        <path d=\"M19 3H5c-1.1 0-2 .9-2 2v14c0 1.1.9 2 2 2h14c1.1 0 2-.9 2-2V5c0-1.1-.9-2-2-2zM9 17H7v-7h2v7zm4 0h-2V7h2v10zm4 0h-2v-4h2v4z\"/>\n",
              "    </g>\n",
              "</svg>\n",
              "  </button>\n",
              "\n",
              "<style>\n",
              "  .colab-df-quickchart {\n",
              "      --bg-color: #E8F0FE;\n",
              "      --fill-color: #1967D2;\n",
              "      --hover-bg-color: #E2EBFA;\n",
              "      --hover-fill-color: #174EA6;\n",
              "      --disabled-fill-color: #AAA;\n",
              "      --disabled-bg-color: #DDD;\n",
              "  }\n",
              "\n",
              "  [theme=dark] .colab-df-quickchart {\n",
              "      --bg-color: #3B4455;\n",
              "      --fill-color: #D2E3FC;\n",
              "      --hover-bg-color: #434B5C;\n",
              "      --hover-fill-color: #FFFFFF;\n",
              "      --disabled-bg-color: #3B4455;\n",
              "      --disabled-fill-color: #666;\n",
              "  }\n",
              "\n",
              "  .colab-df-quickchart {\n",
              "    background-color: var(--bg-color);\n",
              "    border: none;\n",
              "    border-radius: 50%;\n",
              "    cursor: pointer;\n",
              "    display: none;\n",
              "    fill: var(--fill-color);\n",
              "    height: 32px;\n",
              "    padding: 0;\n",
              "    width: 32px;\n",
              "  }\n",
              "\n",
              "  .colab-df-quickchart:hover {\n",
              "    background-color: var(--hover-bg-color);\n",
              "    box-shadow: 0 1px 2px rgba(60, 64, 67, 0.3), 0 1px 3px 1px rgba(60, 64, 67, 0.15);\n",
              "    fill: var(--button-hover-fill-color);\n",
              "  }\n",
              "\n",
              "  .colab-df-quickchart-complete:disabled,\n",
              "  .colab-df-quickchart-complete:disabled:hover {\n",
              "    background-color: var(--disabled-bg-color);\n",
              "    fill: var(--disabled-fill-color);\n",
              "    box-shadow: none;\n",
              "  }\n",
              "\n",
              "  .colab-df-spinner {\n",
              "    border: 2px solid var(--fill-color);\n",
              "    border-color: transparent;\n",
              "    border-bottom-color: var(--fill-color);\n",
              "    animation:\n",
              "      spin 1s steps(1) infinite;\n",
              "  }\n",
              "\n",
              "  @keyframes spin {\n",
              "    0% {\n",
              "      border-color: transparent;\n",
              "      border-bottom-color: var(--fill-color);\n",
              "      border-left-color: var(--fill-color);\n",
              "    }\n",
              "    20% {\n",
              "      border-color: transparent;\n",
              "      border-left-color: var(--fill-color);\n",
              "      border-top-color: var(--fill-color);\n",
              "    }\n",
              "    30% {\n",
              "      border-color: transparent;\n",
              "      border-left-color: var(--fill-color);\n",
              "      border-top-color: var(--fill-color);\n",
              "      border-right-color: var(--fill-color);\n",
              "    }\n",
              "    40% {\n",
              "      border-color: transparent;\n",
              "      border-right-color: var(--fill-color);\n",
              "      border-top-color: var(--fill-color);\n",
              "    }\n",
              "    60% {\n",
              "      border-color: transparent;\n",
              "      border-right-color: var(--fill-color);\n",
              "    }\n",
              "    80% {\n",
              "      border-color: transparent;\n",
              "      border-right-color: var(--fill-color);\n",
              "      border-bottom-color: var(--fill-color);\n",
              "    }\n",
              "    90% {\n",
              "      border-color: transparent;\n",
              "      border-bottom-color: var(--fill-color);\n",
              "    }\n",
              "  }\n",
              "</style>\n",
              "\n",
              "  <script>\n",
              "    async function quickchart(key) {\n",
              "      const quickchartButtonEl =\n",
              "        document.querySelector('#' + key + ' button');\n",
              "      quickchartButtonEl.disabled = true;  // To prevent multiple clicks.\n",
              "      quickchartButtonEl.classList.add('colab-df-spinner');\n",
              "      try {\n",
              "        const charts = await google.colab.kernel.invokeFunction(\n",
              "            'suggestCharts', [key], {});\n",
              "      } catch (error) {\n",
              "        console.error('Error during call to suggestCharts:', error);\n",
              "      }\n",
              "      quickchartButtonEl.classList.remove('colab-df-spinner');\n",
              "      quickchartButtonEl.classList.add('colab-df-quickchart-complete');\n",
              "    }\n",
              "    (() => {\n",
              "      let quickchartButtonEl =\n",
              "        document.querySelector('#df-df9c32f6-f60b-4de4-aff3-1bcf8f9f1243 button');\n",
              "      quickchartButtonEl.style.display =\n",
              "        google.colab.kernel.accessAllowed ? 'block' : 'none';\n",
              "    })();\n",
              "  </script>\n",
              "</div>\n",
              "    </div>\n",
              "  </div>\n"
            ]
          },
          "metadata": {},
          "execution_count": 55
        }
      ]
    },
    {
      "cell_type": "code",
      "source": [
        "for column in unic_categ['column_name']:\n",
        "    print(data[column].unique())"
      ],
      "metadata": {
        "colab": {
          "base_uri": "https://localhost:8080/"
        },
        "id": "vbgDiWsL1C2C",
        "outputId": "15ab3894-feaa-40e1-9e14-802f23d01dbd"
      },
      "execution_count": null,
      "outputs": [
        {
          "output_type": "stream",
          "name": "stdout",
          "text": [
            "['yes' 'no']\n",
            "['no' 'yes']\n",
            "['no' 'yes']\n",
            "['no' 'yes']\n",
            "['yes' 'no']\n",
            "['yes' 'no']\n",
            "['furnished' 'semi-furnished' 'unfurnished']\n"
          ]
        }
      ]
    },
    {
      "cell_type": "code",
      "source": [
        "unic_numer = pd.DataFrame([[i,data[i].nunique()] for i in numeric_cols], columns=['column_name','num_unique']).sort_values(by=['num_unique'])"
      ],
      "metadata": {
        "id": "gpY8sVyOZSc3"
      },
      "execution_count": null,
      "outputs": []
    },
    {
      "cell_type": "code",
      "source": [
        "unic_numer"
      ],
      "metadata": {
        "colab": {
          "base_uri": "https://localhost:8080/",
          "height": 237
        },
        "id": "bMWRsO5DZYFl",
        "outputId": "86b59937-5522-4f17-df59-e388fb8cb074"
      },
      "execution_count": null,
      "outputs": [
        {
          "output_type": "execute_result",
          "data": {
            "text/plain": [
              "  column_name  num_unique\n",
              "3   bathrooms           4\n",
              "4     stories           4\n",
              "5     parking           4\n",
              "2    bedrooms           6\n",
              "0       price         219\n",
              "1        area         284"
            ],
            "text/html": [
              "\n",
              "  <div id=\"df-3559e32c-86b8-490a-bae6-34cf93b1457e\" class=\"colab-df-container\">\n",
              "    <div>\n",
              "<style scoped>\n",
              "    .dataframe tbody tr th:only-of-type {\n",
              "        vertical-align: middle;\n",
              "    }\n",
              "\n",
              "    .dataframe tbody tr th {\n",
              "        vertical-align: top;\n",
              "    }\n",
              "\n",
              "    .dataframe thead th {\n",
              "        text-align: right;\n",
              "    }\n",
              "</style>\n",
              "<table border=\"1\" class=\"dataframe\">\n",
              "  <thead>\n",
              "    <tr style=\"text-align: right;\">\n",
              "      <th></th>\n",
              "      <th>column_name</th>\n",
              "      <th>num_unique</th>\n",
              "    </tr>\n",
              "  </thead>\n",
              "  <tbody>\n",
              "    <tr>\n",
              "      <th>3</th>\n",
              "      <td>bathrooms</td>\n",
              "      <td>4</td>\n",
              "    </tr>\n",
              "    <tr>\n",
              "      <th>4</th>\n",
              "      <td>stories</td>\n",
              "      <td>4</td>\n",
              "    </tr>\n",
              "    <tr>\n",
              "      <th>5</th>\n",
              "      <td>parking</td>\n",
              "      <td>4</td>\n",
              "    </tr>\n",
              "    <tr>\n",
              "      <th>2</th>\n",
              "      <td>bedrooms</td>\n",
              "      <td>6</td>\n",
              "    </tr>\n",
              "    <tr>\n",
              "      <th>0</th>\n",
              "      <td>price</td>\n",
              "      <td>219</td>\n",
              "    </tr>\n",
              "    <tr>\n",
              "      <th>1</th>\n",
              "      <td>area</td>\n",
              "      <td>284</td>\n",
              "    </tr>\n",
              "  </tbody>\n",
              "</table>\n",
              "</div>\n",
              "    <div class=\"colab-df-buttons\">\n",
              "\n",
              "  <div class=\"colab-df-container\">\n",
              "    <button class=\"colab-df-convert\" onclick=\"convertToInteractive('df-3559e32c-86b8-490a-bae6-34cf93b1457e')\"\n",
              "            title=\"Convert this dataframe to an interactive table.\"\n",
              "            style=\"display:none;\">\n",
              "\n",
              "  <svg xmlns=\"http://www.w3.org/2000/svg\" height=\"24px\" viewBox=\"0 -960 960 960\">\n",
              "    <path d=\"M120-120v-720h720v720H120Zm60-500h600v-160H180v160Zm220 220h160v-160H400v160Zm0 220h160v-160H400v160ZM180-400h160v-160H180v160Zm440 0h160v-160H620v160ZM180-180h160v-160H180v160Zm440 0h160v-160H620v160Z\"/>\n",
              "  </svg>\n",
              "    </button>\n",
              "\n",
              "  <style>\n",
              "    .colab-df-container {\n",
              "      display:flex;\n",
              "      gap: 12px;\n",
              "    }\n",
              "\n",
              "    .colab-df-convert {\n",
              "      background-color: #E8F0FE;\n",
              "      border: none;\n",
              "      border-radius: 50%;\n",
              "      cursor: pointer;\n",
              "      display: none;\n",
              "      fill: #1967D2;\n",
              "      height: 32px;\n",
              "      padding: 0 0 0 0;\n",
              "      width: 32px;\n",
              "    }\n",
              "\n",
              "    .colab-df-convert:hover {\n",
              "      background-color: #E2EBFA;\n",
              "      box-shadow: 0px 1px 2px rgba(60, 64, 67, 0.3), 0px 1px 3px 1px rgba(60, 64, 67, 0.15);\n",
              "      fill: #174EA6;\n",
              "    }\n",
              "\n",
              "    .colab-df-buttons div {\n",
              "      margin-bottom: 4px;\n",
              "    }\n",
              "\n",
              "    [theme=dark] .colab-df-convert {\n",
              "      background-color: #3B4455;\n",
              "      fill: #D2E3FC;\n",
              "    }\n",
              "\n",
              "    [theme=dark] .colab-df-convert:hover {\n",
              "      background-color: #434B5C;\n",
              "      box-shadow: 0px 1px 3px 1px rgba(0, 0, 0, 0.15);\n",
              "      filter: drop-shadow(0px 1px 2px rgba(0, 0, 0, 0.3));\n",
              "      fill: #FFFFFF;\n",
              "    }\n",
              "  </style>\n",
              "\n",
              "    <script>\n",
              "      const buttonEl =\n",
              "        document.querySelector('#df-3559e32c-86b8-490a-bae6-34cf93b1457e button.colab-df-convert');\n",
              "      buttonEl.style.display =\n",
              "        google.colab.kernel.accessAllowed ? 'block' : 'none';\n",
              "\n",
              "      async function convertToInteractive(key) {\n",
              "        const element = document.querySelector('#df-3559e32c-86b8-490a-bae6-34cf93b1457e');\n",
              "        const dataTable =\n",
              "          await google.colab.kernel.invokeFunction('convertToInteractive',\n",
              "                                                    [key], {});\n",
              "        if (!dataTable) return;\n",
              "\n",
              "        const docLinkHtml = 'Like what you see? Visit the ' +\n",
              "          '<a target=\"_blank\" href=https://colab.research.google.com/notebooks/data_table.ipynb>data table notebook</a>'\n",
              "          + ' to learn more about interactive tables.';\n",
              "        element.innerHTML = '';\n",
              "        dataTable['output_type'] = 'display_data';\n",
              "        await google.colab.output.renderOutput(dataTable, element);\n",
              "        const docLink = document.createElement('div');\n",
              "        docLink.innerHTML = docLinkHtml;\n",
              "        element.appendChild(docLink);\n",
              "      }\n",
              "    </script>\n",
              "  </div>\n",
              "\n",
              "\n",
              "<div id=\"df-6c88dcd2-83e8-4e14-b221-2a6fd647b1f0\">\n",
              "  <button class=\"colab-df-quickchart\" onclick=\"quickchart('df-6c88dcd2-83e8-4e14-b221-2a6fd647b1f0')\"\n",
              "            title=\"Suggest charts.\"\n",
              "            style=\"display:none;\">\n",
              "\n",
              "<svg xmlns=\"http://www.w3.org/2000/svg\" height=\"24px\"viewBox=\"0 0 24 24\"\n",
              "     width=\"24px\">\n",
              "    <g>\n",
              "        <path d=\"M19 3H5c-1.1 0-2 .9-2 2v14c0 1.1.9 2 2 2h14c1.1 0 2-.9 2-2V5c0-1.1-.9-2-2-2zM9 17H7v-7h2v7zm4 0h-2V7h2v10zm4 0h-2v-4h2v4z\"/>\n",
              "    </g>\n",
              "</svg>\n",
              "  </button>\n",
              "\n",
              "<style>\n",
              "  .colab-df-quickchart {\n",
              "      --bg-color: #E8F0FE;\n",
              "      --fill-color: #1967D2;\n",
              "      --hover-bg-color: #E2EBFA;\n",
              "      --hover-fill-color: #174EA6;\n",
              "      --disabled-fill-color: #AAA;\n",
              "      --disabled-bg-color: #DDD;\n",
              "  }\n",
              "\n",
              "  [theme=dark] .colab-df-quickchart {\n",
              "      --bg-color: #3B4455;\n",
              "      --fill-color: #D2E3FC;\n",
              "      --hover-bg-color: #434B5C;\n",
              "      --hover-fill-color: #FFFFFF;\n",
              "      --disabled-bg-color: #3B4455;\n",
              "      --disabled-fill-color: #666;\n",
              "  }\n",
              "\n",
              "  .colab-df-quickchart {\n",
              "    background-color: var(--bg-color);\n",
              "    border: none;\n",
              "    border-radius: 50%;\n",
              "    cursor: pointer;\n",
              "    display: none;\n",
              "    fill: var(--fill-color);\n",
              "    height: 32px;\n",
              "    padding: 0;\n",
              "    width: 32px;\n",
              "  }\n",
              "\n",
              "  .colab-df-quickchart:hover {\n",
              "    background-color: var(--hover-bg-color);\n",
              "    box-shadow: 0 1px 2px rgba(60, 64, 67, 0.3), 0 1px 3px 1px rgba(60, 64, 67, 0.15);\n",
              "    fill: var(--button-hover-fill-color);\n",
              "  }\n",
              "\n",
              "  .colab-df-quickchart-complete:disabled,\n",
              "  .colab-df-quickchart-complete:disabled:hover {\n",
              "    background-color: var(--disabled-bg-color);\n",
              "    fill: var(--disabled-fill-color);\n",
              "    box-shadow: none;\n",
              "  }\n",
              "\n",
              "  .colab-df-spinner {\n",
              "    border: 2px solid var(--fill-color);\n",
              "    border-color: transparent;\n",
              "    border-bottom-color: var(--fill-color);\n",
              "    animation:\n",
              "      spin 1s steps(1) infinite;\n",
              "  }\n",
              "\n",
              "  @keyframes spin {\n",
              "    0% {\n",
              "      border-color: transparent;\n",
              "      border-bottom-color: var(--fill-color);\n",
              "      border-left-color: var(--fill-color);\n",
              "    }\n",
              "    20% {\n",
              "      border-color: transparent;\n",
              "      border-left-color: var(--fill-color);\n",
              "      border-top-color: var(--fill-color);\n",
              "    }\n",
              "    30% {\n",
              "      border-color: transparent;\n",
              "      border-left-color: var(--fill-color);\n",
              "      border-top-color: var(--fill-color);\n",
              "      border-right-color: var(--fill-color);\n",
              "    }\n",
              "    40% {\n",
              "      border-color: transparent;\n",
              "      border-right-color: var(--fill-color);\n",
              "      border-top-color: var(--fill-color);\n",
              "    }\n",
              "    60% {\n",
              "      border-color: transparent;\n",
              "      border-right-color: var(--fill-color);\n",
              "    }\n",
              "    80% {\n",
              "      border-color: transparent;\n",
              "      border-right-color: var(--fill-color);\n",
              "      border-bottom-color: var(--fill-color);\n",
              "    }\n",
              "    90% {\n",
              "      border-color: transparent;\n",
              "      border-bottom-color: var(--fill-color);\n",
              "    }\n",
              "  }\n",
              "</style>\n",
              "\n",
              "  <script>\n",
              "    async function quickchart(key) {\n",
              "      const quickchartButtonEl =\n",
              "        document.querySelector('#' + key + ' button');\n",
              "      quickchartButtonEl.disabled = true;  // To prevent multiple clicks.\n",
              "      quickchartButtonEl.classList.add('colab-df-spinner');\n",
              "      try {\n",
              "        const charts = await google.colab.kernel.invokeFunction(\n",
              "            'suggestCharts', [key], {});\n",
              "      } catch (error) {\n",
              "        console.error('Error during call to suggestCharts:', error);\n",
              "      }\n",
              "      quickchartButtonEl.classList.remove('colab-df-spinner');\n",
              "      quickchartButtonEl.classList.add('colab-df-quickchart-complete');\n",
              "    }\n",
              "    (() => {\n",
              "      let quickchartButtonEl =\n",
              "        document.querySelector('#df-6c88dcd2-83e8-4e14-b221-2a6fd647b1f0 button');\n",
              "      quickchartButtonEl.style.display =\n",
              "        google.colab.kernel.accessAllowed ? 'block' : 'none';\n",
              "    })();\n",
              "  </script>\n",
              "</div>\n",
              "    </div>\n",
              "  </div>\n"
            ]
          },
          "metadata": {},
          "execution_count": 58
        }
      ]
    },
    {
      "cell_type": "code",
      "source": [
        "print(f'Кол-во категориальных признаков = {len(categorical_cols)}')\n",
        "print(f'Кол-во числовых признаков = {len(numeric_cols)}')"
      ],
      "metadata": {
        "colab": {
          "base_uri": "https://localhost:8080/"
        },
        "id": "ACYoPhOoads-",
        "outputId": "3f1a3fca-d7a1-4d25-c741-baf4c36bdfbd"
      },
      "execution_count": null,
      "outputs": [
        {
          "output_type": "stream",
          "name": "stdout",
          "text": [
            "Кол-во категориальных признаков = 7\n",
            "Кол-во числовых признаков = 6\n"
          ]
        }
      ]
    },
    {
      "cell_type": "code",
      "source": [
        "target_name = 'price'\n",
        "numeric_cols.remove('price')"
      ],
      "metadata": {
        "id": "5RWfQHjJalbJ"
      },
      "execution_count": null,
      "outputs": []
    },
    {
      "cell_type": "code",
      "source": [
        "#визуализация\n",
        "import plotly.express as px"
      ],
      "metadata": {
        "id": "qR4rxNzqc831"
      },
      "execution_count": null,
      "outputs": []
    },
    {
      "cell_type": "code",
      "source": [
        "plt.hist(data[target_name], bins = 20, edgecolor='white')\n",
        "plt.show()\n",
        "\n",
        "fig = px.box(data_frame=data, y=target_name, width=700)\n",
        "fig.show()"
      ],
      "metadata": {
        "colab": {
          "base_uri": "https://localhost:8080/",
          "height": 993
        },
        "id": "tYBAKu1havrD",
        "outputId": "1fbdc958-e1b9-484f-b541-fcf66d0c2413"
      },
      "execution_count": null,
      "outputs": [
        {
          "output_type": "display_data",
          "data": {
            "text/plain": [
              "<Figure size 640x480 with 1 Axes>"
            ],
            "image/png": "[encoded data removed]"
          },
          "metadata": {}
        },
        {
          "output_type": "display_data",
          "data": {
            "text/html": [
              "<html>\n",
              "<head><meta charset=\"utf-8\" /></head>\n",
              "<body>\n",
              "    <div>            <script src=\"https://cdnjs.cloudflare.com/ajax/libs/mathjax/2.7.5/MathJax.js?config=TeX-AMS-MML_SVG\"></script><script type=\"text/javascript\">if (window.MathJax && window.MathJax.Hub && window.MathJax.Hub.Config) {window.MathJax.Hub.Config({SVG: {font: \"STIX-Web\"}});}</script>                <script type=\"text/javascript\">window.PlotlyConfig = {MathJaxConfig: 'local'};</script>\n",
              "        <script charset=\"utf-8\" src=\"https://cdn.plot.ly/plotly-2.24.1.min.js\"></script>                <div id=\"bdd8f39e-a1ec-4895-8ac6-bb9bf09e791d\" class=\"plotly-graph-div\" style=\"height:525px; width:700px;\"></div>            <script type=\"text/javascript\">                                    window.PLOTLYENV=window.PLOTLYENV || {};                                    if (document.getElementById(\"bdd8f39e-a1ec-4895-8ac6-bb9bf09e791d\")) {                    Plotly.newPlot(                        \"bdd8f39e-a1ec-4895-8ac6-bb9bf09e791d\",                        [{\"alignmentgroup\":\"True\",\"hovertemplate\":\"price=%{y}\\u003cextra\\u003e\\u003c\\u002fextra\\u003e\",\"legendgroup\":\"\",\"marker\":{\"color\":\"#636efa\"},\"name\":\"\",\"notched\":false,\"offsetgroup\":\"\",\"orientation\":\"v\",\"showlegend\":false,\"x0\":\" \",\"xaxis\":\"x\",\"y\":[13300000,12250000,12250000,12215000,11410000,10850000,10150000,10150000,9870000,9800000,9800000,9681000,9310000,9240000,9240000,9100000,9100000,8960000,8890000,8855000,8750000,8680000,8645000,8645000,8575000,8540000,8463000,8400000,8400000,8400000,8400000,8400000,8295000,8190000,8120000,8080940,8043000,7980000,7962500,7910000,7875000,7840000,7700000,7700000,7560000,7560000,7525000,7490000,7455000,7420000,7420000,7420000,7350000,7350000,7350000,7350000,7343000,7245000,7210000,7210000,7140000,7070000,7070000,7035000,7000000,6930000,6930000,6895000,6860000,6790000,6790000,6755000,6720000,6685000,6650000,6650000,6650000,6650000,6650000,6650000,6629000,6615000,6615000,6580000,6510000,6510000,6510000,6475000,6475000,6440000,6440000,6419000,6405000,6300000,6300000,6300000,6300000,6300000,6293000,6265000,6230000,6230000,6195000,6195000,6195000,6160000,6160000,6125000,6107500,6090000,6090000,6090000,6083000,6083000,6020000,6020000,6020000,5950000,5950000,5950000,5950000,5950000,5950000,5950000,5950000,5943000,5880000,5880000,5873000,5873000,5866000,5810000,5810000,5810000,5803000,5775000,5740000,5740000,5740000,5740000,5740000,5652500,5600000,5600000,5600000,5600000,5600000,5600000,5600000,5600000,5600000,5565000,5565000,5530000,5530000,5530000,5523000,5495000,5495000,5460000,5460000,5460000,5460000,5425000,5390000,5383000,5320000,5285000,5250000,5250000,5250000,5250000,5250000,5250000,5250000,5250000,5250000,5243000,5229000,5215000,5215000,5215000,5145000,5145000,5110000,5110000,5110000,5110000,5075000,5040000,5040000,5040000,5040000,5033000,5005000,4970000,4970000,4956000,4935000,4907000,4900000,4900000,4900000,4900000,4900000,4900000,4900000,4900000,4900000,4900000,4900000,4900000,4893000,4893000,4865000,4830000,4830000,4830000,4830000,4795000,4795000,4767000,4760000,4760000,4760000,4753000,4690000,4690000,4690000,4690000,4690000,4690000,4655000,4620000,4620000,4620000,4620000,4620000,4613000,4585000,4585000,4550000,4550000,4550000,4550000,4550000,4550000,4550000,4543000,4543000,4515000,4515000,4515000,4515000,4480000,4480000,4480000,4480000,4480000,4473000,4473000,4473000,4445000,4410000,4410000,4403000,4403000,4403000,4382000,4375000,4340000,4340000,4340000,4340000,4340000,4319000,4305000,4305000,4277000,4270000,4270000,4270000,4270000,4270000,4270000,4235000,4235000,4200000,4200000,4200000,4200000,4200000,4200000,4200000,4200000,4200000,4200000,4200000,4200000,4200000,4200000,4200000,4200000,4200000,4193000,4193000,4165000,4165000,4165000,4130000,4130000,4123000,4098500,4095000,4095000,4095000,4060000,4060000,4060000,4060000,4060000,4025000,4025000,4025000,4007500,4007500,3990000,3990000,3990000,3990000,3990000,3920000,3920000,3920000,3920000,3920000,3920000,3920000,3885000,3885000,3850000,3850000,3850000,3850000,3850000,3850000,3850000,3836000,3815000,3780000,3780000,3780000,3780000,3780000,3780000,3773000,3773000,3773000,3745000,3710000,3710000,3710000,3710000,3710000,3703000,3703000,3675000,3675000,3675000,3675000,3640000,3640000,3640000,3640000,3640000,3640000,3640000,3640000,3640000,3633000,3605000,3605000,3570000,3570000,3570000,3570000,3535000,3500000,3500000,3500000,3500000,3500000,3500000,3500000,3500000,3500000,3500000,3500000,3500000,3500000,3500000,3500000,3500000,3500000,3493000,3465000,3465000,3465000,3430000,3430000,3430000,3430000,3430000,3430000,3423000,3395000,3395000,3395000,3360000,3360000,3360000,3360000,3360000,3360000,3360000,3360000,3353000,3332000,3325000,3325000,3290000,3290000,3290000,3290000,3290000,3290000,3290000,3290000,3255000,3255000,3234000,3220000,3220000,3220000,3220000,3150000,3150000,3150000,3150000,3150000,3150000,3150000,3150000,3150000,3143000,3129000,3118850,3115000,3115000,3115000,3087000,3080000,3080000,3080000,3080000,3045000,3010000,3010000,3010000,3010000,3010000,3010000,3010000,3003000,2975000,2961000,2940000,2940000,2940000,2940000,2940000,2940000,2940000,2940000,2870000,2870000,2870000,2870000,2852500,2835000,2835000,2835000,2800000,2800000,2730000,2730000,2695000,2660000,2660000,2660000,2660000,2660000,2660000,2660000,2653000,2653000,2604000,2590000,2590000,2590000,2520000,2520000,2520000,2485000,2485000,2450000,2450000,2450000,2450000,2450000,2450000,2408000,2380000,2380000,2380000,2345000,2310000,2275000,2275000,2275000,2240000,2233000,2135000,2100000,2100000,2100000,1960000,1890000,1890000,1855000,1820000,1767150,1750000,1750000,1750000],\"y0\":\" \",\"yaxis\":\"y\",\"type\":\"box\"}],                        {\"template\":{\"data\":{\"histogram2dcontour\":[{\"type\":\"histogram2dcontour\",\"colorbar\":{\"outlinewidth\":0,\"ticks\":\"\"},\"colorscale\":[[0.0,\"#0d0887\"],[0.1111111111111111,\"#46039f\"],[0.2222222222222222,\"#7201a8\"],[0.3333333333333333,\"#9c179e\"],[0.4444444444444444,\"#bd3786\"],[0.5555555555555556,\"#d8576b\"],[0.6666666666666666,\"#ed7953\"],[0.7777777777777778,\"#fb9f3a\"],[0.8888888888888888,\"#fdca26\"],[1.0,\"#f0f921\"]]}],\"choropleth\":[{\"type\":\"choropleth\",\"colorbar\":{\"outlinewidth\":0,\"ticks\":\"\"}}],\"histogram2d\":[{\"type\":\"histogram2d\",\"colorbar\":{\"outlinewidth\":0,\"ticks\":\"\"},\"colorscale\":[[0.0,\"#0d0887\"],[0.1111111111111111,\"#46039f\"],[0.2222222222222222,\"#7201a8\"],[0.3333333333333333,\"#9c179e\"],[0.4444444444444444,\"#bd3786\"],[0.5555555555555556,\"#d8576b\"],[0.6666666666666666,\"#ed7953\"],[0.7777777777777778,\"#fb9f3a\"],[0.8888888888888888,\"#fdca26\"],[1.0,\"#f0f921\"]]}],\"heatmap\":[{\"type\":\"heatmap\",\"colorbar\":{\"outlinewidth\":0,\"ticks\":\"\"},\"colorscale\":[[0.0,\"#0d0887\"],[0.1111111111111111,\"#46039f\"],[0.2222222222222222,\"#7201a8\"],[0.3333333333333333,\"#9c179e\"],[0.4444444444444444,\"#bd3786\"],[0.5555555555555556,\"#d8576b\"],[0.6666666666666666,\"#ed7953\"],[0.7777777777777778,\"#fb9f3a\"],[0.8888888888888888,\"#fdca26\"],[1.0,\"#f0f921\"]]}],\"heatmapgl\":[{\"type\":\"heatmapgl\",\"colorbar\":{\"outlinewidth\":0,\"ticks\":\"\"},\"colorscale\":[[0.0,\"#0d0887\"],[0.1111111111111111,\"#46039f\"],[0.2222222222222222,\"#7201a8\"],[0.3333333333333333,\"#9c179e\"],[0.4444444444444444,\"#bd3786\"],[0.5555555555555556,\"#d8576b\"],[0.6666666666666666,\"#ed7953\"],[0.7777777777777778,\"#fb9f3a\"],[0.8888888888888888,\"#fdca26\"],[1.0,\"#f0f921\"]]}],\"contourcarpet\":[{\"type\":\"contourcarpet\",\"colorbar\":{\"outlinewidth\":0,\"ticks\":\"\"}}],\"contour\":[{\"type\":\"contour\",\"colorbar\":{\"outlinewidth\":0,\"ticks\":\"\"},\"colorscale\":[[0.0,\"#0d0887\"],[0.1111111111111111,\"#46039f\"],[0.2222222222222222,\"#7201a8\"],[0.3333333333333333,\"#9c179e\"],[0.4444444444444444,\"#bd3786\"],[0.5555555555555556,\"#d8576b\"],[0.6666666666666666,\"#ed7953\"],[0.7777777777777778,\"#fb9f3a\"],[0.8888888888888888,\"#fdca26\"],[1.0,\"#f0f921\"]]}],\"surface\":[{\"type\":\"surface\",\"colorbar\":{\"outlinewidth\":0,\"ticks\":\"\"},\"colorscale\":[[0.0,\"#0d0887\"],[0.1111111111111111,\"#46039f\"],[0.2222222222222222,\"#7201a8\"],[0.3333333333333333,\"#9c179e\"],[0.4444444444444444,\"#bd3786\"],[0.5555555555555556,\"#d8576b\"],[0.6666666666666666,\"#ed7953\"],[0.7777777777777778,\"#fb9f3a\"],[0.8888888888888888,\"#fdca26\"],[1.0,\"#f0f921\"]]}],\"mesh3d\":[{\"type\":\"mesh3d\",\"colorbar\":{\"outlinewidth\":0,\"ticks\":\"\"}}],\"scatter\":[{\"fillpattern\":{\"fillmode\":\"overlay\",\"size\":10,\"solidity\":0.2},\"type\":\"scatter\"}],\"parcoords\":[{\"type\":\"parcoords\",\"line\":{\"colorbar\":{\"outlinewidth\":0,\"ticks\":\"\"}}}],\"scatterpolargl\":[{\"type\":\"scatterpolargl\",\"marker\":{\"colorbar\":{\"outlinewidth\":0,\"ticks\":\"\"}}}],\"bar\":[{\"error_x\":{\"color\":\"#2a3f5f\"},\"error_y\":{\"color\":\"#2a3f5f\"},\"marker\":{\"line\":{\"color\":\"#E5ECF6\",\"width\":0.5},\"pattern\":{\"fillmode\":\"overlay\",\"size\":10,\"solidity\":0.2}},\"type\":\"bar\"}],\"scattergeo\":[{\"type\":\"scattergeo\",\"marker\":{\"colorbar\":{\"outlinewidth\":0,\"ticks\":\"\"}}}],\"scatterpolar\":[{\"type\":\"scatterpolar\",\"marker\":{\"colorbar\":{\"outlinewidth\":0,\"ticks\":\"\"}}}],\"histogram\":[{\"marker\":{\"pattern\":{\"fillmode\":\"overlay\",\"size\":10,\"solidity\":0.2}},\"type\":\"histogram\"}],\"scattergl\":[{\"type\":\"scattergl\",\"marker\":{\"colorbar\":{\"outlinewidth\":0,\"ticks\":\"\"}}}],\"scatter3d\":[{\"type\":\"scatter3d\",\"line\":{\"colorbar\":{\"outlinewidth\":0,\"ticks\":\"\"}},\"marker\":{\"colorbar\":{\"outlinewidth\":0,\"ticks\":\"\"}}}],\"scattermapbox\":[{\"type\":\"scattermapbox\",\"marker\":{\"colorbar\":{\"outlinewidth\":0,\"ticks\":\"\"}}}],\"scatterternary\":[{\"type\":\"scatterternary\",\"marker\":{\"colorbar\":{\"outlinewidth\":0,\"ticks\":\"\"}}}],\"scattercarpet\":[{\"type\":\"scattercarpet\",\"marker\":{\"colorbar\":{\"outlinewidth\":0,\"ticks\":\"\"}}}],\"carpet\":[{\"aaxis\":{\"endlinecolor\":\"#2a3f5f\",\"gridcolor\":\"white\",\"linecolor\":\"white\",\"minorgridcolor\":\"white\",\"startlinecolor\":\"#2a3f5f\"},\"baxis\":{\"endlinecolor\":\"#2a3f5f\",\"gridcolor\":\"white\",\"linecolor\":\"white\",\"minorgridcolor\":\"white\",\"startlinecolor\":\"#2a3f5f\"},\"type\":\"carpet\"}],\"table\":[{\"cells\":{\"fill\":{\"color\":\"#EBF0F8\"},\"line\":{\"color\":\"white\"}},\"header\":{\"fill\":{\"color\":\"#C8D4E3\"},\"line\":{\"color\":\"white\"}},\"type\":\"table\"}],\"barpolar\":[{\"marker\":{\"line\":{\"color\":\"#E5ECF6\",\"width\":0.5},\"pattern\":{\"fillmode\":\"overlay\",\"size\":10,\"solidity\":0.2}},\"type\":\"barpolar\"}],\"pie\":[{\"automargin\":true,\"type\":\"pie\"}]},\"layout\":{\"autotypenumbers\":\"strict\",\"colorway\":[\"#636efa\",\"#EF553B\",\"#00cc96\",\"#ab63fa\",\"#FFA15A\",\"#19d3f3\",\"#FF6692\",\"#B6E880\",\"#FF97FF\",\"#FECB52\"],\"font\":{\"color\":\"#2a3f5f\"},\"hovermode\":\"closest\",\"hoverlabel\":{\"align\":\"left\"},\"paper_bgcolor\":\"white\",\"plot_bgcolor\":\"#E5ECF6\",\"polar\":{\"bgcolor\":\"#E5ECF6\",\"angularaxis\":{\"gridcolor\":\"white\",\"linecolor\":\"white\",\"ticks\":\"\"},\"radialaxis\":{\"gridcolor\":\"white\",\"linecolor\":\"white\",\"ticks\":\"\"}},\"ternary\":{\"bgcolor\":\"#E5ECF6\",\"aaxis\":{\"gridcolor\":\"white\",\"linecolor\":\"white\",\"ticks\":\"\"},\"baxis\":{\"gridcolor\":\"white\",\"linecolor\":\"white\",\"ticks\":\"\"},\"caxis\":{\"gridcolor\":\"white\",\"linecolor\":\"white\",\"ticks\":\"\"}},\"coloraxis\":{\"colorbar\":{\"outlinewidth\":0,\"ticks\":\"\"}},\"colorscale\":{\"sequential\":[[0.0,\"#0d0887\"],[0.1111111111111111,\"#46039f\"],[0.2222222222222222,\"#7201a8\"],[0.3333333333333333,\"#9c179e\"],[0.4444444444444444,\"#bd3786\"],[0.5555555555555556,\"#d8576b\"],[0.6666666666666666,\"#ed7953\"],[0.7777777777777778,\"#fb9f3a\"],[0.8888888888888888,\"#fdca26\"],[1.0,\"#f0f921\"]],\"sequentialminus\":[[0.0,\"#0d0887\"],[0.1111111111111111,\"#46039f\"],[0.2222222222222222,\"#7201a8\"],[0.3333333333333333,\"#9c179e\"],[0.4444444444444444,\"#bd3786\"],[0.5555555555555556,\"#d8576b\"],[0.6666666666666666,\"#ed7953\"],[0.7777777777777778,\"#fb9f3a\"],[0.8888888888888888,\"#fdca26\"],[1.0,\"#f0f921\"]],\"diverging\":[[0,\"#8e0152\"],[0.1,\"#c51b7d\"],[0.2,\"#de77ae\"],[0.3,\"#f1b6da\"],[0.4,\"#fde0ef\"],[0.5,\"#f7f7f7\"],[0.6,\"#e6f5d0\"],[0.7,\"#b8e186\"],[0.8,\"#7fbc41\"],[0.9,\"#4d9221\"],[1,\"#276419\"]]},\"xaxis\":{\"gridcolor\":\"white\",\"linecolor\":\"white\",\"ticks\":\"\",\"title\":{\"standoff\":15},\"zerolinecolor\":\"white\",\"automargin\":true,\"zerolinewidth\":2},\"yaxis\":{\"gridcolor\":\"white\",\"linecolor\":\"white\",\"ticks\":\"\",\"title\":{\"standoff\":15},\"zerolinecolor\":\"white\",\"automargin\":true,\"zerolinewidth\":2},\"scene\":{\"xaxis\":{\"backgroundcolor\":\"#E5ECF6\",\"gridcolor\":\"white\",\"linecolor\":\"white\",\"showbackground\":true,\"ticks\":\"\",\"zerolinecolor\":\"white\",\"gridwidth\":2},\"yaxis\":{\"backgroundcolor\":\"#E5ECF6\",\"gridcolor\":\"white\",\"linecolor\":\"white\",\"showbackground\":true,\"ticks\":\"\",\"zerolinecolor\":\"white\",\"gridwidth\":2},\"zaxis\":{\"backgroundcolor\":\"#E5ECF6\",\"gridcolor\":\"white\",\"linecolor\":\"white\",\"showbackground\":true,\"ticks\":\"\",\"zerolinecolor\":\"white\",\"gridwidth\":2}},\"shapedefaults\":{\"line\":{\"color\":\"#2a3f5f\"}},\"annotationdefaults\":{\"arrowcolor\":\"#2a3f5f\",\"arrowhead\":0,\"arrowwidth\":1},\"geo\":{\"bgcolor\":\"white\",\"landcolor\":\"#E5ECF6\",\"subunitcolor\":\"white\",\"showland\":true,\"showlakes\":true,\"lakecolor\":\"white\"},\"title\":{\"x\":0.05},\"mapbox\":{\"style\":\"light\"}}},\"xaxis\":{\"anchor\":\"y\",\"domain\":[0.0,1.0]},\"yaxis\":{\"anchor\":\"x\",\"domain\":[0.0,1.0],\"title\":{\"text\":\"price\"}},\"legend\":{\"tracegroupgap\":0},\"margin\":{\"t\":60},\"boxmode\":\"group\",\"width\":700},                        {\"responsive\": true}                    ).then(function(){\n",
              "                            \n",
              "var gd = document.getElementById('bdd8f39e-a1ec-4895-8ac6-bb9bf09e791d');\n",
              "var x = new MutationObserver(function (mutations, observer) {{\n",
              "        var display = window.getComputedStyle(gd).display;\n",
              "        if (!display || display === 'none') {{\n",
              "            console.log([gd, 'removed!']);\n",
              "            Plotly.purge(gd);\n",
              "            observer.disconnect();\n",
              "        }}\n",
              "}});\n",
              "\n",
              "// Listen for the removal of the full notebook cells\n",
              "var notebookContainer = gd.closest('#notebook-container');\n",
              "if (notebookContainer) {{\n",
              "    x.observe(notebookContainer, {childList: true});\n",
              "}}\n",
              "\n",
              "// Listen for the clearing of the current output cell\n",
              "var outputEl = gd.closest('.output');\n",
              "if (outputEl) {{\n",
              "    x.observe(outputEl, {childList: true});\n",
              "}}\n",
              "\n",
              "                        })                };                            </script>        </div>\n",
              "</body>\n",
              "</html>"
            ]
          },
          "metadata": {}
        }
      ]
    },
    {
      "cell_type": "code",
      "source": [
        "from sklearn.model_selection import train_test_split\n",
        "\n",
        "X_train, X_test, y_train, y_test = train_test_split(\n",
        "    data.drop(target_name, axis=1),\n",
        "    data[target_name],\n",
        "    test_size=0.3,\n",
        "    random_state=1,\n",
        "    shuffle=True\n",
        ")"
      ],
      "metadata": {
        "id": "hzoKJTy0c4fv"
      },
      "execution_count": null,
      "outputs": []
    },
    {
      "cell_type": "code",
      "source": [
        "print(X_train.shape)\n",
        "print(y_train.shape)\n",
        "print()\n",
        "print(X_test.shape)\n",
        "print(y_test.shape)"
      ],
      "metadata": {
        "id": "ERZzRF6Xc6za",
        "colab": {
          "base_uri": "https://localhost:8080/"
        },
        "outputId": "9e29ab86-7b55-43fe-8dc0-45dd73b38774"
      },
      "execution_count": null,
      "outputs": [
        {
          "output_type": "stream",
          "name": "stdout",
          "text": [
            "(381, 12)\n",
            "(381,)\n",
            "\n",
            "(164, 12)\n",
            "(164,)\n"
          ]
        }
      ]
    },
    {
      "cell_type": "code",
      "source": [
        "#сделаем одну выборку с нормализованными численными признаками\n",
        "from sklearn.preprocessing import StandardScaler\n",
        "\n",
        "X_train_num = X_train[numeric_cols]\n",
        "X_test_num = X_test[numeric_cols]\n",
        "\n",
        "scaler = StandardScaler()\n",
        "X_train_num_scaled = scaler.fit_transform(X_train_num)\n",
        "X_test_num_scaled = scaler.transform(X_test_num)"
      ],
      "metadata": {
        "id": "P87AGQ99dGTZ"
      },
      "execution_count": null,
      "outputs": []
    },
    {
      "cell_type": "code",
      "source": [
        "X_train[categorical_cols], X_train[categorical_cols].shape"
      ],
      "metadata": {
        "id": "2Zh48Vpxd806",
        "colab": {
          "base_uri": "https://localhost:8080/"
        },
        "outputId": "54f2bbb8-b29f-4551-eddd-f668bd51145f"
      },
      "execution_count": null,
      "outputs": [
        {
          "output_type": "execute_result",
          "data": {
            "text/plain": [
              "(    mainroad guestroom basement hotwaterheating airconditioning prefarea  \\\n",
              " 180       no        no      yes              no             yes       no   \n",
              " 189       no       yes      yes              no              no       no   \n",
              " 93       yes        no      yes              no             yes       no   \n",
              " 444       no        no       no              no              no       no   \n",
              " 81       yes        no      yes              no             yes       no   \n",
              " ..       ...       ...      ...             ...             ...      ...   \n",
              " 129      yes        no       no              no              no      yes   \n",
              " 144      yes       yes      yes              no             yes       no   \n",
              " 72       yes        no       no              no             yes      yes   \n",
              " 235      yes       yes       no              no             yes       no   \n",
              " 37       yes        no       no              no             yes       no   \n",
              " \n",
              "     furnishingstatus  \n",
              " 180   semi-furnished  \n",
              " 189   semi-furnished  \n",
              " 93    semi-furnished  \n",
              " 444        furnished  \n",
              " 81    semi-furnished  \n",
              " ..               ...  \n",
              " 129   semi-furnished  \n",
              " 144        furnished  \n",
              " 72       unfurnished  \n",
              " 235   semi-furnished  \n",
              " 37         furnished  \n",
              " \n",
              " [381 rows x 7 columns],\n",
              " (381, 7))"
            ]
          },
          "metadata": {},
          "execution_count": 66
        }
      ]
    },
    {
      "cell_type": "code",
      "source": [
        "# Кодирование категориальных признаков\n",
        "from sklearn.preprocessing import OrdinalEncoder\n",
        "\n",
        "encoder = OrdinalEncoder(handle_unknown='use_encoded_value', unknown_value=-1)\n",
        "\n",
        "X_train_cat = encoder.fit_transform(X_train[categorical_cols]).astype(int)\n",
        "X_test_cat = encoder.fit_transform(X_test[categorical_cols]).astype(int)\n",
        "\n"
      ],
      "metadata": {
        "id": "C-O4yi3U00cl"
      },
      "execution_count": null,
      "outputs": []
    },
    {
      "cell_type": "code",
      "source": [
        "X_train_cat.shape, X_train_cat"
      ],
      "metadata": {
        "colab": {
          "base_uri": "https://localhost:8080/"
        },
        "id": "gBJwj1io033T",
        "outputId": "48815415-a339-4a7c-e409-f6c6404041de"
      },
      "execution_count": null,
      "outputs": [
        {
          "output_type": "execute_result",
          "data": {
            "text/plain": [
              "((381, 7),\n",
              " array([[0, 0, 1, ..., 1, 0, 1],\n",
              "        [0, 1, 1, ..., 0, 0, 1],\n",
              "        [1, 0, 1, ..., 1, 0, 1],\n",
              "        ...,\n",
              "        [1, 0, 0, ..., 1, 1, 2],\n",
              "        [1, 1, 0, ..., 1, 0, 1],\n",
              "        [1, 0, 0, ..., 1, 0, 0]]))"
            ]
          },
          "metadata": {},
          "execution_count": 68
        }
      ]
    },
    {
      "cell_type": "code",
      "source": [
        "#объеденим в один набор численные и категориальные признаки\n",
        "X_train_new = np.hstack((X_train_num_scaled, X_train_cat))\n",
        "X_test_new = np.hstack((X_test_num_scaled, X_test_cat))\n",
        "X_train_new.shape, X_test_new.shape"
      ],
      "metadata": {
        "colab": {
          "base_uri": "https://localhost:8080/"
        },
        "id": "lF3KPkA405rk",
        "outputId": "e5c7b63c-b139-44a4-be1e-b3899494c91e"
      },
      "execution_count": null,
      "outputs": [
        {
          "output_type": "execute_result",
          "data": {
            "text/plain": [
              "((381, 12), (164, 12))"
            ]
          },
          "metadata": {},
          "execution_count": 69
        }
      ]
    },
    {
      "cell_type": "code",
      "source": [
        "from sklearn.linear_model import LinearRegression, Ridge, Lasso\n",
        "from sklearn.metrics import mean_squared_error, r2_score, mean_absolute_error\n",
        "\n",
        "np.random.seed(1)\n",
        "model_lr = LinearRegression()"
      ],
      "metadata": {
        "id": "SnxqJmU811pd"
      },
      "execution_count": null,
      "outputs": []
    },
    {
      "cell_type": "code",
      "source": [
        "model_lr.fit(X_train_new, y_train)"
      ],
      "metadata": {
        "colab": {
          "base_uri": "https://localhost:8080/",
          "height": 74
        },
        "id": "CXd0H2q42DL-",
        "outputId": "e3b51b02-bcfa-4591-e996-d985ab3bcc25"
      },
      "execution_count": null,
      "outputs": [
        {
          "output_type": "execute_result",
          "data": {
            "text/plain": [
              "LinearRegression()"
            ],
            "text/html": [
              "<style>#sk-container-id-4 {color: black;background-color: white;}#sk-container-id-4 pre{padding: 0;}#sk-container-id-4 div.sk-toggleable {background-color: white;}#sk-container-id-4 label.sk-toggleable__label {cursor: pointer;display: block;width: 100%;margin-bottom: 0;padding: 0.3em;box-sizing: border-box;text-align: center;}#sk-container-id-4 label.sk-toggleable__label-arrow:before {content: \"▸\";float: left;margin-right: 0.25em;color: #696969;}#sk-container-id-4 label.sk-toggleable__label-arrow:hover:before {color: black;}#sk-container-id-4 div.sk-estimator:hover label.sk-toggleable__label-arrow:before {color: black;}#sk-container-id-4 div.sk-toggleable__content {max-height: 0;max-width: 0;overflow: hidden;text-align: left;background-color: #f0f8ff;}#sk-container-id-4 div.sk-toggleable__content pre {margin: 0.2em;color: black;border-radius: 0.25em;background-color: #f0f8ff;}#sk-container-id-4 input.sk-toggleable__control:checked~div.sk-toggleable__content {max-height: 200px;max-width: 100%;overflow: auto;}#sk-container-id-4 input.sk-toggleable__control:checked~label.sk-toggleable__label-arrow:before {content: \"▾\";}#sk-container-id-4 div.sk-estimator input.sk-toggleable__control:checked~label.sk-toggleable__label {background-color: #d4ebff;}#sk-container-id-4 div.sk-label input.sk-toggleable__control:checked~label.sk-toggleable__label {background-color: #d4ebff;}#sk-container-id-4 input.sk-hidden--visually {border: 0;clip: rect(1px 1px 1px 1px);clip: rect(1px, 1px, 1px, 1px);height: 1px;margin: -1px;overflow: hidden;padding: 0;position: absolute;width: 1px;}#sk-container-id-4 div.sk-estimator {font-family: monospace;background-color: #f0f8ff;border: 1px dotted black;border-radius: 0.25em;box-sizing: border-box;margin-bottom: 0.5em;}#sk-container-id-4 div.sk-estimator:hover {background-color: #d4ebff;}#sk-container-id-4 div.sk-parallel-item::after {content: \"\";width: 100%;border-bottom: 1px solid gray;flex-grow: 1;}#sk-container-id-4 div.sk-label:hover label.sk-toggleable__label {background-color: #d4ebff;}#sk-container-id-4 div.sk-serial::before {content: \"\";position: absolute;border-left: 1px solid gray;box-sizing: border-box;top: 0;bottom: 0;left: 50%;z-index: 0;}#sk-container-id-4 div.sk-serial {display: flex;flex-direction: column;align-items: center;background-color: white;padding-right: 0.2em;padding-left: 0.2em;position: relative;}#sk-container-id-4 div.sk-item {position: relative;z-index: 1;}#sk-container-id-4 div.sk-parallel {display: flex;align-items: stretch;justify-content: center;background-color: white;position: relative;}#sk-container-id-4 div.sk-item::before, #sk-container-id-4 div.sk-parallel-item::before {content: \"\";position: absolute;border-left: 1px solid gray;box-sizing: border-box;top: 0;bottom: 0;left: 50%;z-index: -1;}#sk-container-id-4 div.sk-parallel-item {display: flex;flex-direction: column;z-index: 1;position: relative;background-color: white;}#sk-container-id-4 div.sk-parallel-item:first-child::after {align-self: flex-end;width: 50%;}#sk-container-id-4 div.sk-parallel-item:last-child::after {align-self: flex-start;width: 50%;}#sk-container-id-4 div.sk-parallel-item:only-child::after {width: 0;}#sk-container-id-4 div.sk-dashed-wrapped {border: 1px dashed gray;margin: 0 0.4em 0.5em 0.4em;box-sizing: border-box;padding-bottom: 0.4em;background-color: white;}#sk-container-id-4 div.sk-label label {font-family: monospace;font-weight: bold;display: inline-block;line-height: 1.2em;}#sk-container-id-4 div.sk-label-container {text-align: center;}#sk-container-id-4 div.sk-container {/* jupyter's `normalize.less` sets `[hidden] { display: none; }` but bootstrap.min.css set `[hidden] { display: none !important; }` so we also need the `!important` here to be able to override the default hidden behavior on the sphinx rendered scikit-learn.org. See: https://github.com/scikit-learn/scikit-learn/issues/21755 */display: inline-block !important;position: relative;}#sk-container-id-4 div.sk-text-repr-fallback {display: none;}</style><div id=\"sk-container-id-4\" class=\"sk-top-container\"><div class=\"sk-text-repr-fallback\"><pre>LinearRegression()</pre><b>In a Jupyter environment, please rerun this cell to show the HTML representation or trust the notebook. <br />On GitHub, the HTML representation is unable to render, please try loading this page with nbviewer.org.</b></div><div class=\"sk-container\" hidden><div class=\"sk-item\"><div class=\"sk-estimator sk-toggleable\"><input class=\"sk-toggleable__control sk-hidden--visually\" id=\"sk-estimator-id-4\" type=\"checkbox\" checked><label for=\"sk-estimator-id-4\" class=\"sk-toggleable__label sk-toggleable__label-arrow\">LinearRegression</label><div class=\"sk-toggleable__content\"><pre>LinearRegression()</pre></div></div></div></div></div>"
            ]
          },
          "metadata": {},
          "execution_count": 71
        }
      ]
    },
    {
      "cell_type": "code",
      "source": [
        "pred_lr = model_lr.predict(X_test_new) # получение предсказаний на тестовой выборке\n",
        "mse = mean_squared_error(y_test, pred_lr)\n",
        "r2 = r2_score(y_test, pred_lr)\n",
        "mae = mean_absolute_error(y_test, pred_lr)\n",
        "print(\"Средняя ошибка прогноза цены дома:\", mae)\n",
        "print(\"MSE = {}; R2 = {}\".format(round(mse, 3), round(r2, 4)))"
      ],
      "metadata": {
        "colab": {
          "base_uri": "https://localhost:8080/"
        },
        "id": "k-sT7Rn32FMt",
        "outputId": "3af1f771-40d8-4f2e-f009-1a2b428f91f6"
      },
      "execution_count": null,
      "outputs": [
        {
          "output_type": "stream",
          "name": "stdout",
          "text": [
            "Средняя ошибка прогноза цены дома: 855894.768405006\n",
            "MSE = 1375329793553.131; R2 = 0.6621\n"
          ]
        }
      ]
    },
    {
      "cell_type": "code",
      "source": [
        "model_lr.intercept_"
      ],
      "metadata": {
        "colab": {
          "base_uri": "https://localhost:8080/"
        },
        "id": "4X5x5t7E2G4X",
        "outputId": "aca8e75f-c711-43b2-fa80-c404a03c5121"
      },
      "execution_count": null,
      "outputs": [
        {
          "output_type": "execute_result",
          "data": {
            "text/plain": [
              "3991252.0837730495"
            ]
          },
          "metadata": {},
          "execution_count": 73
        }
      ]
    },
    {
      "cell_type": "code",
      "source": [
        "np.random.seed(1)\n",
        "model_lasso = Lasso()"
      ],
      "metadata": {
        "id": "sTrWTnJM2Q-F"
      },
      "execution_count": null,
      "outputs": []
    },
    {
      "cell_type": "code",
      "source": [
        "model_lasso.fit(X_train_new, y_train)"
      ],
      "metadata": {
        "colab": {
          "base_uri": "https://localhost:8080/",
          "height": 74
        },
        "id": "deuFDZgt2SqQ",
        "outputId": "807893d9-fe7c-4610-a809-4b57d09e2410"
      },
      "execution_count": null,
      "outputs": [
        {
          "output_type": "execute_result",
          "data": {
            "text/plain": [
              "Lasso()"
            ],
            "text/html": [
              "<style>#sk-container-id-5 {color: black;background-color: white;}#sk-container-id-5 pre{padding: 0;}#sk-container-id-5 div.sk-toggleable {background-color: white;}#sk-container-id-5 label.sk-toggleable__label {cursor: pointer;display: block;width: 100%;margin-bottom: 0;padding: 0.3em;box-sizing: border-box;text-align: center;}#sk-container-id-5 label.sk-toggleable__label-arrow:before {content: \"▸\";float: left;margin-right: 0.25em;color: #696969;}#sk-container-id-5 label.sk-toggleable__label-arrow:hover:before {color: black;}#sk-container-id-5 div.sk-estimator:hover label.sk-toggleable__label-arrow:before {color: black;}#sk-container-id-5 div.sk-toggleable__content {max-height: 0;max-width: 0;overflow: hidden;text-align: left;background-color: #f0f8ff;}#sk-container-id-5 div.sk-toggleable__content pre {margin: 0.2em;color: black;border-radius: 0.25em;background-color: #f0f8ff;}#sk-container-id-5 input.sk-toggleable__control:checked~div.sk-toggleable__content {max-height: 200px;max-width: 100%;overflow: auto;}#sk-container-id-5 input.sk-toggleable__control:checked~label.sk-toggleable__label-arrow:before {content: \"▾\";}#sk-container-id-5 div.sk-estimator input.sk-toggleable__control:checked~label.sk-toggleable__label {background-color: #d4ebff;}#sk-container-id-5 div.sk-label input.sk-toggleable__control:checked~label.sk-toggleable__label {background-color: #d4ebff;}#sk-container-id-5 input.sk-hidden--visually {border: 0;clip: rect(1px 1px 1px 1px);clip: rect(1px, 1px, 1px, 1px);height: 1px;margin: -1px;overflow: hidden;padding: 0;position: absolute;width: 1px;}#sk-container-id-5 div.sk-estimator {font-family: monospace;background-color: #f0f8ff;border: 1px dotted black;border-radius: 0.25em;box-sizing: border-box;margin-bottom: 0.5em;}#sk-container-id-5 div.sk-estimator:hover {background-color: #d4ebff;}#sk-container-id-5 div.sk-parallel-item::after {content: \"\";width: 100%;border-bottom: 1px solid gray;flex-grow: 1;}#sk-container-id-5 div.sk-label:hover label.sk-toggleable__label {background-color: #d4ebff;}#sk-container-id-5 div.sk-serial::before {content: \"\";position: absolute;border-left: 1px solid gray;box-sizing: border-box;top: 0;bottom: 0;left: 50%;z-index: 0;}#sk-container-id-5 div.sk-serial {display: flex;flex-direction: column;align-items: center;background-color: white;padding-right: 0.2em;padding-left: 0.2em;position: relative;}#sk-container-id-5 div.sk-item {position: relative;z-index: 1;}#sk-container-id-5 div.sk-parallel {display: flex;align-items: stretch;justify-content: center;background-color: white;position: relative;}#sk-container-id-5 div.sk-item::before, #sk-container-id-5 div.sk-parallel-item::before {content: \"\";position: absolute;border-left: 1px solid gray;box-sizing: border-box;top: 0;bottom: 0;left: 50%;z-index: -1;}#sk-container-id-5 div.sk-parallel-item {display: flex;flex-direction: column;z-index: 1;position: relative;background-color: white;}#sk-container-id-5 div.sk-parallel-item:first-child::after {align-self: flex-end;width: 50%;}#sk-container-id-5 div.sk-parallel-item:last-child::after {align-self: flex-start;width: 50%;}#sk-container-id-5 div.sk-parallel-item:only-child::after {width: 0;}#sk-container-id-5 div.sk-dashed-wrapped {border: 1px dashed gray;margin: 0 0.4em 0.5em 0.4em;box-sizing: border-box;padding-bottom: 0.4em;background-color: white;}#sk-container-id-5 div.sk-label label {font-family: monospace;font-weight: bold;display: inline-block;line-height: 1.2em;}#sk-container-id-5 div.sk-label-container {text-align: center;}#sk-container-id-5 div.sk-container {/* jupyter's `normalize.less` sets `[hidden] { display: none; }` but bootstrap.min.css set `[hidden] { display: none !important; }` so we also need the `!important` here to be able to override the default hidden behavior on the sphinx rendered scikit-learn.org. See: https://github.com/scikit-learn/scikit-learn/issues/21755 */display: inline-block !important;position: relative;}#sk-container-id-5 div.sk-text-repr-fallback {display: none;}</style><div id=\"sk-container-id-5\" class=\"sk-top-container\"><div class=\"sk-text-repr-fallback\"><pre>Lasso()</pre><b>In a Jupyter environment, please rerun this cell to show the HTML representation or trust the notebook. <br />On GitHub, the HTML representation is unable to render, please try loading this page with nbviewer.org.</b></div><div class=\"sk-container\" hidden><div class=\"sk-item\"><div class=\"sk-estimator sk-toggleable\"><input class=\"sk-toggleable__control sk-hidden--visually\" id=\"sk-estimator-id-5\" type=\"checkbox\" checked><label for=\"sk-estimator-id-5\" class=\"sk-toggleable__label sk-toggleable__label-arrow\">Lasso</label><div class=\"sk-toggleable__content\"><pre>Lasso()</pre></div></div></div></div></div>"
            ]
          },
          "metadata": {},
          "execution_count": 75
        }
      ]
    },
    {
      "cell_type": "code",
      "source": [
        "pred_lr_lasso = model_lasso.predict(X_test_new) # получение предсказаний на тестовой выборке\n",
        "mse = mean_squared_error(y_test, pred_lr_lasso)\n",
        "r2 = r2_score(y_test, pred_lr_lasso)\n",
        "mae = mean_absolute_error(y_test, pred_lr_lasso)\n",
        "print(\"Средняя ошибка прогноза цены дома:\", mae)\n",
        "print(\"MSE = {}; R2 = {}\".format(round(mse, 3), round(r2, 4)))"
      ],
      "metadata": {
        "colab": {
          "base_uri": "https://localhost:8080/"
        },
        "id": "2VmsG_2w2TyU",
        "outputId": "747976c8-c39b-44f1-ec62-2b2b38a3ae99"
      },
      "execution_count": null,
      "outputs": [
        {
          "output_type": "stream",
          "name": "stdout",
          "text": [
            "Средняя ошибка прогноза цены дома: 855894.2303401423\n",
            "MSE = 1375331187563.881; R2 = 0.6621\n"
          ]
        }
      ]
    },
    {
      "cell_type": "code",
      "source": [
        "np.random.seed(1)\n",
        "model_ridge = Ridge()"
      ],
      "metadata": {
        "id": "-U2F01L12Xi1"
      },
      "execution_count": null,
      "outputs": []
    },
    {
      "cell_type": "code",
      "source": [
        "model_ridge.fit(X_train_new, y_train)"
      ],
      "metadata": {
        "colab": {
          "base_uri": "https://localhost:8080/",
          "height": 74
        },
        "id": "b3RgXQHm2Zlq",
        "outputId": "4ae84698-db0d-4c95-a3f6-f7e1d4a847ce"
      },
      "execution_count": null,
      "outputs": [
        {
          "output_type": "execute_result",
          "data": {
            "text/plain": [
              "Ridge()"
            ],
            "text/html": [
              "<style>#sk-container-id-6 {color: black;background-color: white;}#sk-container-id-6 pre{padding: 0;}#sk-container-id-6 div.sk-toggleable {background-color: white;}#sk-container-id-6 label.sk-toggleable__label {cursor: pointer;display: block;width: 100%;margin-bottom: 0;padding: 0.3em;box-sizing: border-box;text-align: center;}#sk-container-id-6 label.sk-toggleable__label-arrow:before {content: \"▸\";float: left;margin-right: 0.25em;color: #696969;}#sk-container-id-6 label.sk-toggleable__label-arrow:hover:before {color: black;}#sk-container-id-6 div.sk-estimator:hover label.sk-toggleable__label-arrow:before {color: black;}#sk-container-id-6 div.sk-toggleable__content {max-height: 0;max-width: 0;overflow: hidden;text-align: left;background-color: #f0f8ff;}#sk-container-id-6 div.sk-toggleable__content pre {margin: 0.2em;color: black;border-radius: 0.25em;background-color: #f0f8ff;}#sk-container-id-6 input.sk-toggleable__control:checked~div.sk-toggleable__content {max-height: 200px;max-width: 100%;overflow: auto;}#sk-container-id-6 input.sk-toggleable__control:checked~label.sk-toggleable__label-arrow:before {content: \"▾\";}#sk-container-id-6 div.sk-estimator input.sk-toggleable__control:checked~label.sk-toggleable__label {background-color: #d4ebff;}#sk-container-id-6 div.sk-label input.sk-toggleable__control:checked~label.sk-toggleable__label {background-color: #d4ebff;}#sk-container-id-6 input.sk-hidden--visually {border: 0;clip: rect(1px 1px 1px 1px);clip: rect(1px, 1px, 1px, 1px);height: 1px;margin: -1px;overflow: hidden;padding: 0;position: absolute;width: 1px;}#sk-container-id-6 div.sk-estimator {font-family: monospace;background-color: #f0f8ff;border: 1px dotted black;border-radius: 0.25em;box-sizing: border-box;margin-bottom: 0.5em;}#sk-container-id-6 div.sk-estimator:hover {background-color: #d4ebff;}#sk-container-id-6 div.sk-parallel-item::after {content: \"\";width: 100%;border-bottom: 1px solid gray;flex-grow: 1;}#sk-container-id-6 div.sk-label:hover label.sk-toggleable__label {background-color: #d4ebff;}#sk-container-id-6 div.sk-serial::before {content: \"\";position: absolute;border-left: 1px solid gray;box-sizing: border-box;top: 0;bottom: 0;left: 50%;z-index: 0;}#sk-container-id-6 div.sk-serial {display: flex;flex-direction: column;align-items: center;background-color: white;padding-right: 0.2em;padding-left: 0.2em;position: relative;}#sk-container-id-6 div.sk-item {position: relative;z-index: 1;}#sk-container-id-6 div.sk-parallel {display: flex;align-items: stretch;justify-content: center;background-color: white;position: relative;}#sk-container-id-6 div.sk-item::before, #sk-container-id-6 div.sk-parallel-item::before {content: \"\";position: absolute;border-left: 1px solid gray;box-sizing: border-box;top: 0;bottom: 0;left: 50%;z-index: -1;}#sk-container-id-6 div.sk-parallel-item {display: flex;flex-direction: column;z-index: 1;position: relative;background-color: white;}#sk-container-id-6 div.sk-parallel-item:first-child::after {align-self: flex-end;width: 50%;}#sk-container-id-6 div.sk-parallel-item:last-child::after {align-self: flex-start;width: 50%;}#sk-container-id-6 div.sk-parallel-item:only-child::after {width: 0;}#sk-container-id-6 div.sk-dashed-wrapped {border: 1px dashed gray;margin: 0 0.4em 0.5em 0.4em;box-sizing: border-box;padding-bottom: 0.4em;background-color: white;}#sk-container-id-6 div.sk-label label {font-family: monospace;font-weight: bold;display: inline-block;line-height: 1.2em;}#sk-container-id-6 div.sk-label-container {text-align: center;}#sk-container-id-6 div.sk-container {/* jupyter's `normalize.less` sets `[hidden] { display: none; }` but bootstrap.min.css set `[hidden] { display: none !important; }` so we also need the `!important` here to be able to override the default hidden behavior on the sphinx rendered scikit-learn.org. See: https://github.com/scikit-learn/scikit-learn/issues/21755 */display: inline-block !important;position: relative;}#sk-container-id-6 div.sk-text-repr-fallback {display: none;}</style><div id=\"sk-container-id-6\" class=\"sk-top-container\"><div class=\"sk-text-repr-fallback\"><pre>Ridge()</pre><b>In a Jupyter environment, please rerun this cell to show the HTML representation or trust the notebook. <br />On GitHub, the HTML representation is unable to render, please try loading this page with nbviewer.org.</b></div><div class=\"sk-container\" hidden><div class=\"sk-item\"><div class=\"sk-estimator sk-toggleable\"><input class=\"sk-toggleable__control sk-hidden--visually\" id=\"sk-estimator-id-6\" type=\"checkbox\" checked><label for=\"sk-estimator-id-6\" class=\"sk-toggleable__label sk-toggleable__label-arrow\">Ridge</label><div class=\"sk-toggleable__content\"><pre>Ridge()</pre></div></div></div></div></div>"
            ]
          },
          "metadata": {},
          "execution_count": 78
        }
      ]
    },
    {
      "cell_type": "code",
      "source": [
        "pred_lr_ridge = model_ridge.predict(X_test_new) # получение предсказаний на тестовой выборке\n",
        "mse = mean_squared_error(y_test, pred_lr_ridge)\n",
        "r2 = r2_score(y_test, pred_lr_ridge)\n",
        "mae = mean_absolute_error(y_test, pred_lr_ridge)\n",
        "print(\"Средняя ошибка прогноза цены дома:\", mae)\n",
        "print(\"MSE = {}; R2 = {}\".format(round(mse, 3), round(r2, 4)))"
      ],
      "metadata": {
        "colab": {
          "base_uri": "https://localhost:8080/"
        },
        "id": "nV4l9-5w2alp",
        "outputId": "32362dba-a613-4c18-afb3-2cce10d0375d"
      },
      "execution_count": null,
      "outputs": [
        {
          "output_type": "stream",
          "name": "stdout",
          "text": [
            "Средняя ошибка прогноза цены дома: 854759.884989717\n",
            "MSE = 1377084433451.64; R2 = 0.6617\n"
          ]
        }
      ]
    },
    {
      "cell_type": "code",
      "source": [
        "plt.plot(y_test,y_test)\n",
        "plt.scatter(pred_lr,y_test, color = 'pink', label = 'LR',s=30,edgecolor='black', linewidths=0.5)\n",
        "plt.scatter(pred_lr_lasso,y_test, color = 'crimson', label = 'Lasso',s=30,edgecolor='black', linewidths=0.5)\n",
        "plt.scatter(pred_lr_ridge,y_test, color = 'c', label = 'Ridge',s=30,edgecolor='black', linewidths=0.5)\n",
        "plt.xlabel('Предсказания')\n",
        "plt.ylabel('Таргет')\n",
        "plt.legend()\n",
        "plt.plot()"
      ],
      "metadata": {
        "colab": {
          "base_uri": "https://localhost:8080/",
          "height": 482
        },
        "id": "TG8aa3jq2cQh",
        "outputId": "2cc41c8a-e9c6-4fbe-c9e3-21d6a99cad5c"
      },
      "execution_count": null,
      "outputs": [
        {
          "output_type": "execute_result",
          "data": {
            "text/plain": [
              "[]"
            ]
          },
          "metadata": {},
          "execution_count": 80
        },
        {
          "output_type": "display_data",
          "data": {
            "text/plain": [
              "<Figure size 640x480 with 1 Axes>"
            ],
            "image/png": "[encoded data removed]"
          },
          "metadata": {}
        }
      ]
    }
  ]
}